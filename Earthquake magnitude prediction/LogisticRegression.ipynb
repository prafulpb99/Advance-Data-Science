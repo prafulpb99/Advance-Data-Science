{
 "cells": [
  {
   "cell_type": "markdown",
   "metadata": {},
   "source": [
    "# Logistic Regression\n",
    "\n",
    "\n",
    "## 1. Importing Libraries, Data Cleaning & Pre-processing"
   ]
  },
  {
   "cell_type": "code",
   "execution_count": 34,
   "metadata": {},
   "outputs": [],
   "source": [
    "import matplotlib.pyplot as plt\n",
    "import numpy as np\n",
    "import pandas as pd\n",
    "from scipy import stats\n",
    "import seaborn as sns\n",
    "import re\n",
    "from sklearn.preprocessing import LabelEncoder\n",
    "from sklearn.model_selection import train_test_split\n",
    "from sklearn.linear_model import LinearRegression\n",
    "from sklearn.tree import DecisionTreeRegressor\n",
    "from sklearn.ensemble import RandomForestRegressor\n",
    "from sklearn.metrics import mean_squared_error\n",
    "import warnings \n",
    "warnings.filterwarnings('ignore')\n"
   ]
  },
  {
   "cell_type": "markdown",
   "metadata": {},
   "source": [
    "#### Importing the dataset by reading it from a CSV file."
   ]
  },
  {
   "cell_type": "code",
   "execution_count": 35,
   "metadata": {},
   "outputs": [],
   "source": [
    "df = pd.read_csv('earthquake_data.csv')"
   ]
  },
  {
   "cell_type": "markdown",
   "metadata": {},
   "source": [
    "#### we will summarize the dataset's. Output varies depending on numeric data or categorical data type. In case of numeric data:- count, mean, std, min, max, 75th, 50th ,25th percentiles is displayed In case of categorical data:- count, unique, top, freq, first and last items"
   ]
  },
  {
   "cell_type": "code",
   "execution_count": 36,
   "metadata": {
    "scrolled": true
   },
   "outputs": [
    {
     "data": {
      "text/html": [
       "<div>\n",
       "<style scoped>\n",
       "    .dataframe tbody tr th:only-of-type {\n",
       "        vertical-align: middle;\n",
       "    }\n",
       "\n",
       "    .dataframe tbody tr th {\n",
       "        vertical-align: top;\n",
       "    }\n",
       "\n",
       "    .dataframe thead th {\n",
       "        text-align: right;\n",
       "    }\n",
       "</style>\n",
       "<table border=\"1\" class=\"dataframe\">\n",
       "  <thead>\n",
       "    <tr style=\"text-align: right;\">\n",
       "      <th></th>\n",
       "      <th>time</th>\n",
       "      <th>latitude</th>\n",
       "      <th>longitude</th>\n",
       "      <th>depth</th>\n",
       "      <th>mag</th>\n",
       "      <th>magType</th>\n",
       "      <th>nst</th>\n",
       "      <th>gap</th>\n",
       "      <th>dmin</th>\n",
       "      <th>rms</th>\n",
       "      <th>...</th>\n",
       "      <th>updated</th>\n",
       "      <th>place</th>\n",
       "      <th>type</th>\n",
       "      <th>horizontalError</th>\n",
       "      <th>depthError</th>\n",
       "      <th>magError</th>\n",
       "      <th>magNst</th>\n",
       "      <th>status</th>\n",
       "      <th>locationSource</th>\n",
       "      <th>magSource</th>\n",
       "    </tr>\n",
       "  </thead>\n",
       "  <tbody>\n",
       "    <tr>\n",
       "      <th>count</th>\n",
       "      <td>5479</td>\n",
       "      <td>5479.000000</td>\n",
       "      <td>5479.000000</td>\n",
       "      <td>5479.000000</td>\n",
       "      <td>5479.000000</td>\n",
       "      <td>5479</td>\n",
       "      <td>4875.000000</td>\n",
       "      <td>5028.000000</td>\n",
       "      <td>5027.000000</td>\n",
       "      <td>5479.000000</td>\n",
       "      <td>...</td>\n",
       "      <td>5479</td>\n",
       "      <td>5479</td>\n",
       "      <td>5479</td>\n",
       "      <td>4981.000000</td>\n",
       "      <td>5479.000000</td>\n",
       "      <td>5013.000000</td>\n",
       "      <td>5024.000000</td>\n",
       "      <td>5479</td>\n",
       "      <td>5479</td>\n",
       "      <td>5479</td>\n",
       "    </tr>\n",
       "    <tr>\n",
       "      <th>unique</th>\n",
       "      <td>5477</td>\n",
       "      <td>NaN</td>\n",
       "      <td>NaN</td>\n",
       "      <td>NaN</td>\n",
       "      <td>NaN</td>\n",
       "      <td>7</td>\n",
       "      <td>NaN</td>\n",
       "      <td>NaN</td>\n",
       "      <td>NaN</td>\n",
       "      <td>NaN</td>\n",
       "      <td>...</td>\n",
       "      <td>5479</td>\n",
       "      <td>1171</td>\n",
       "      <td>4</td>\n",
       "      <td>NaN</td>\n",
       "      <td>NaN</td>\n",
       "      <td>NaN</td>\n",
       "      <td>NaN</td>\n",
       "      <td>2</td>\n",
       "      <td>13</td>\n",
       "      <td>14</td>\n",
       "    </tr>\n",
       "    <tr>\n",
       "      <th>top</th>\n",
       "      <td>2018-07-19T22:38:58.290Z</td>\n",
       "      <td>NaN</td>\n",
       "      <td>NaN</td>\n",
       "      <td>NaN</td>\n",
       "      <td>NaN</td>\n",
       "      <td>ml</td>\n",
       "      <td>NaN</td>\n",
       "      <td>NaN</td>\n",
       "      <td>NaN</td>\n",
       "      <td>NaN</td>\n",
       "      <td>...</td>\n",
       "      <td>2018-07-22T16:44:45.780Z</td>\n",
       "      <td>4km WSW of Volcano, Hawaii</td>\n",
       "      <td>earthquake</td>\n",
       "      <td>NaN</td>\n",
       "      <td>NaN</td>\n",
       "      <td>NaN</td>\n",
       "      <td>NaN</td>\n",
       "      <td>automatic</td>\n",
       "      <td>hv</td>\n",
       "      <td>hv</td>\n",
       "    </tr>\n",
       "    <tr>\n",
       "      <th>freq</th>\n",
       "      <td>2</td>\n",
       "      <td>NaN</td>\n",
       "      <td>NaN</td>\n",
       "      <td>NaN</td>\n",
       "      <td>NaN</td>\n",
       "      <td>4860</td>\n",
       "      <td>NaN</td>\n",
       "      <td>NaN</td>\n",
       "      <td>NaN</td>\n",
       "      <td>NaN</td>\n",
       "      <td>...</td>\n",
       "      <td>1</td>\n",
       "      <td>688</td>\n",
       "      <td>5439</td>\n",
       "      <td>NaN</td>\n",
       "      <td>NaN</td>\n",
       "      <td>NaN</td>\n",
       "      <td>NaN</td>\n",
       "      <td>4614</td>\n",
       "      <td>4380</td>\n",
       "      <td>4380</td>\n",
       "    </tr>\n",
       "    <tr>\n",
       "      <th>mean</th>\n",
       "      <td>NaN</td>\n",
       "      <td>24.145829</td>\n",
       "      <td>-147.086426</td>\n",
       "      <td>6.558106</td>\n",
       "      <td>2.312119</td>\n",
       "      <td>NaN</td>\n",
       "      <td>20.886154</td>\n",
       "      <td>89.912665</td>\n",
       "      <td>0.108372</td>\n",
       "      <td>0.235240</td>\n",
       "      <td>...</td>\n",
       "      <td>NaN</td>\n",
       "      <td>NaN</td>\n",
       "      <td>NaN</td>\n",
       "      <td>0.645904</td>\n",
       "      <td>0.893382</td>\n",
       "      <td>0.684618</td>\n",
       "      <td>16.473527</td>\n",
       "      <td>NaN</td>\n",
       "      <td>NaN</td>\n",
       "      <td>NaN</td>\n",
       "    </tr>\n",
       "    <tr>\n",
       "      <th>std</th>\n",
       "      <td>NaN</td>\n",
       "      <td>13.046497</td>\n",
       "      <td>33.293635</td>\n",
       "      <td>24.190602</td>\n",
       "      <td>0.638113</td>\n",
       "      <td>NaN</td>\n",
       "      <td>11.010084</td>\n",
       "      <td>59.753048</td>\n",
       "      <td>0.883814</td>\n",
       "      <td>0.168817</td>\n",
       "      <td>...</td>\n",
       "      <td>NaN</td>\n",
       "      <td>NaN</td>\n",
       "      <td>NaN</td>\n",
       "      <td>1.533695</td>\n",
       "      <td>2.973400</td>\n",
       "      <td>0.903529</td>\n",
       "      <td>20.811816</td>\n",
       "      <td>NaN</td>\n",
       "      <td>NaN</td>\n",
       "      <td>NaN</td>\n",
       "    </tr>\n",
       "    <tr>\n",
       "      <th>min</th>\n",
       "      <td>NaN</td>\n",
       "      <td>-61.394800</td>\n",
       "      <td>-179.702900</td>\n",
       "      <td>-3.390000</td>\n",
       "      <td>0.950000</td>\n",
       "      <td>NaN</td>\n",
       "      <td>2.000000</td>\n",
       "      <td>11.000000</td>\n",
       "      <td>0.000140</td>\n",
       "      <td>0.010000</td>\n",
       "      <td>...</td>\n",
       "      <td>NaN</td>\n",
       "      <td>NaN</td>\n",
       "      <td>NaN</td>\n",
       "      <td>0.100000</td>\n",
       "      <td>0.000000</td>\n",
       "      <td>0.000000</td>\n",
       "      <td>1.000000</td>\n",
       "      <td>NaN</td>\n",
       "      <td>NaN</td>\n",
       "      <td>NaN</td>\n",
       "    </tr>\n",
       "    <tr>\n",
       "      <th>25%</th>\n",
       "      <td>NaN</td>\n",
       "      <td>19.401167</td>\n",
       "      <td>-155.281006</td>\n",
       "      <td>0.350000</td>\n",
       "      <td>1.940000</td>\n",
       "      <td>NaN</td>\n",
       "      <td>13.000000</td>\n",
       "      <td>47.750000</td>\n",
       "      <td>0.004684</td>\n",
       "      <td>0.140000</td>\n",
       "      <td>...</td>\n",
       "      <td>NaN</td>\n",
       "      <td>NaN</td>\n",
       "      <td>NaN</td>\n",
       "      <td>0.220000</td>\n",
       "      <td>0.200000</td>\n",
       "      <td>0.240000</td>\n",
       "      <td>9.000000</td>\n",
       "      <td>NaN</td>\n",
       "      <td>NaN</td>\n",
       "      <td>NaN</td>\n",
       "    </tr>\n",
       "    <tr>\n",
       "      <th>50%</th>\n",
       "      <td>NaN</td>\n",
       "      <td>19.412500</td>\n",
       "      <td>-155.271668</td>\n",
       "      <td>0.870000</td>\n",
       "      <td>2.300000</td>\n",
       "      <td>NaN</td>\n",
       "      <td>19.000000</td>\n",
       "      <td>69.000000</td>\n",
       "      <td>0.007603</td>\n",
       "      <td>0.190000</td>\n",
       "      <td>...</td>\n",
       "      <td>NaN</td>\n",
       "      <td>NaN</td>\n",
       "      <td>NaN</td>\n",
       "      <td>0.280000</td>\n",
       "      <td>0.280000</td>\n",
       "      <td>0.330000</td>\n",
       "      <td>13.000000</td>\n",
       "      <td>NaN</td>\n",
       "      <td>NaN</td>\n",
       "      <td>NaN</td>\n",
       "    </tr>\n",
       "    <tr>\n",
       "      <th>75%</th>\n",
       "      <td>NaN</td>\n",
       "      <td>19.427000</td>\n",
       "      <td>-155.258667</td>\n",
       "      <td>1.820000</td>\n",
       "      <td>2.650000</td>\n",
       "      <td>NaN</td>\n",
       "      <td>26.000000</td>\n",
       "      <td>114.000000</td>\n",
       "      <td>0.011615</td>\n",
       "      <td>0.270000</td>\n",
       "      <td>...</td>\n",
       "      <td>NaN</td>\n",
       "      <td>NaN</td>\n",
       "      <td>NaN</td>\n",
       "      <td>0.440000</td>\n",
       "      <td>0.480000</td>\n",
       "      <td>0.440000</td>\n",
       "      <td>19.000000</td>\n",
       "      <td>NaN</td>\n",
       "      <td>NaN</td>\n",
       "      <td>NaN</td>\n",
       "    </tr>\n",
       "    <tr>\n",
       "      <th>max</th>\n",
       "      <td>NaN</td>\n",
       "      <td>86.878700</td>\n",
       "      <td>179.827100</td>\n",
       "      <td>587.800000</td>\n",
       "      <td>6.000000</td>\n",
       "      <td>NaN</td>\n",
       "      <td>163.000000</td>\n",
       "      <td>355.000000</td>\n",
       "      <td>28.613000</td>\n",
       "      <td>1.440000</td>\n",
       "      <td>...</td>\n",
       "      <td>NaN</td>\n",
       "      <td>NaN</td>\n",
       "      <td>NaN</td>\n",
       "      <td>28.530000</td>\n",
       "      <td>31.610000</td>\n",
       "      <td>6.080000</td>\n",
       "      <td>580.000000</td>\n",
       "      <td>NaN</td>\n",
       "      <td>NaN</td>\n",
       "      <td>NaN</td>\n",
       "    </tr>\n",
       "  </tbody>\n",
       "</table>\n",
       "<p>11 rows × 22 columns</p>\n",
       "</div>"
      ],
      "text/plain": [
       "                            time     latitude    longitude        depth  \\\n",
       "count                       5479  5479.000000  5479.000000  5479.000000   \n",
       "unique                      5477          NaN          NaN          NaN   \n",
       "top     2018-07-19T22:38:58.290Z          NaN          NaN          NaN   \n",
       "freq                           2          NaN          NaN          NaN   \n",
       "mean                         NaN    24.145829  -147.086426     6.558106   \n",
       "std                          NaN    13.046497    33.293635    24.190602   \n",
       "min                          NaN   -61.394800  -179.702900    -3.390000   \n",
       "25%                          NaN    19.401167  -155.281006     0.350000   \n",
       "50%                          NaN    19.412500  -155.271668     0.870000   \n",
       "75%                          NaN    19.427000  -155.258667     1.820000   \n",
       "max                          NaN    86.878700   179.827100   587.800000   \n",
       "\n",
       "                mag magType          nst          gap         dmin  \\\n",
       "count   5479.000000    5479  4875.000000  5028.000000  5027.000000   \n",
       "unique          NaN       7          NaN          NaN          NaN   \n",
       "top             NaN      ml          NaN          NaN          NaN   \n",
       "freq            NaN    4860          NaN          NaN          NaN   \n",
       "mean       2.312119     NaN    20.886154    89.912665     0.108372   \n",
       "std        0.638113     NaN    11.010084    59.753048     0.883814   \n",
       "min        0.950000     NaN     2.000000    11.000000     0.000140   \n",
       "25%        1.940000     NaN    13.000000    47.750000     0.004684   \n",
       "50%        2.300000     NaN    19.000000    69.000000     0.007603   \n",
       "75%        2.650000     NaN    26.000000   114.000000     0.011615   \n",
       "max        6.000000     NaN   163.000000   355.000000    28.613000   \n",
       "\n",
       "                rms    ...                      updated  \\\n",
       "count   5479.000000    ...                         5479   \n",
       "unique          NaN    ...                         5479   \n",
       "top             NaN    ...     2018-07-22T16:44:45.780Z   \n",
       "freq            NaN    ...                            1   \n",
       "mean       0.235240    ...                          NaN   \n",
       "std        0.168817    ...                          NaN   \n",
       "min        0.010000    ...                          NaN   \n",
       "25%        0.140000    ...                          NaN   \n",
       "50%        0.190000    ...                          NaN   \n",
       "75%        0.270000    ...                          NaN   \n",
       "max        1.440000    ...                          NaN   \n",
       "\n",
       "                             place        type horizontalError   depthError  \\\n",
       "count                         5479        5479     4981.000000  5479.000000   \n",
       "unique                        1171           4             NaN          NaN   \n",
       "top     4km WSW of Volcano, Hawaii  earthquake             NaN          NaN   \n",
       "freq                           688        5439             NaN          NaN   \n",
       "mean                           NaN         NaN        0.645904     0.893382   \n",
       "std                            NaN         NaN        1.533695     2.973400   \n",
       "min                            NaN         NaN        0.100000     0.000000   \n",
       "25%                            NaN         NaN        0.220000     0.200000   \n",
       "50%                            NaN         NaN        0.280000     0.280000   \n",
       "75%                            NaN         NaN        0.440000     0.480000   \n",
       "max                            NaN         NaN       28.530000    31.610000   \n",
       "\n",
       "           magError       magNst     status  locationSource magSource  \n",
       "count   5013.000000  5024.000000       5479            5479      5479  \n",
       "unique          NaN          NaN          2              13        14  \n",
       "top             NaN          NaN  automatic              hv        hv  \n",
       "freq            NaN          NaN       4614            4380      4380  \n",
       "mean       0.684618    16.473527        NaN             NaN       NaN  \n",
       "std        0.903529    20.811816        NaN             NaN       NaN  \n",
       "min        0.000000     1.000000        NaN             NaN       NaN  \n",
       "25%        0.240000     9.000000        NaN             NaN       NaN  \n",
       "50%        0.330000    13.000000        NaN             NaN       NaN  \n",
       "75%        0.440000    19.000000        NaN             NaN       NaN  \n",
       "max        6.080000   580.000000        NaN             NaN       NaN  \n",
       "\n",
       "[11 rows x 22 columns]"
      ]
     },
     "execution_count": 36,
     "metadata": {},
     "output_type": "execute_result"
    }
   ],
   "source": [
    "df.describe(include = 'all')"
   ]
  },
  {
   "cell_type": "markdown",
   "metadata": {},
   "source": [
    "#### Lets check for null values"
   ]
  },
  {
   "cell_type": "code",
   "execution_count": 37,
   "metadata": {},
   "outputs": [
    {
     "data": {
      "text/plain": [
       "2926"
      ]
     },
     "execution_count": 37,
     "metadata": {},
     "output_type": "execute_result"
    }
   ],
   "source": [
    "df.isnull().sum().sum()"
   ]
  },
  {
   "cell_type": "markdown",
   "metadata": {},
   "source": [
    "#### From the above result we can observe that we have 2926 null value. And we have to handle these values to get accurate results\n",
    "\n",
    "Missing values need to be handled because,\n",
    "1. They reduce the quality for any of our performance metric \n",
    "2. It can also lead to wrong prediction or classification\n",
    "3. They cause a high bias for any given model being used\n",
    "\n",
    "There are three popular methods to handle missing data:\n",
    "1. Drop missing values\n",
    "2. Fill missing values with test statistic\n",
    "3. Predict missing values with a machine algorithms\n",
    "\n",
    "#### Now lets find total number of missing values in each columns. Also I will caluclate the percentage of missing values in each columns."
   ]
  },
  {
   "cell_type": "code",
   "execution_count": 38,
   "metadata": {},
   "outputs": [
    {
     "data": {
      "text/html": [
       "<div>\n",
       "<style scoped>\n",
       "    .dataframe tbody tr th:only-of-type {\n",
       "        vertical-align: middle;\n",
       "    }\n",
       "\n",
       "    .dataframe tbody tr th {\n",
       "        vertical-align: top;\n",
       "    }\n",
       "\n",
       "    .dataframe thead th {\n",
       "        text-align: right;\n",
       "    }\n",
       "</style>\n",
       "<table border=\"1\" class=\"dataframe\">\n",
       "  <thead>\n",
       "    <tr style=\"text-align: right;\">\n",
       "      <th></th>\n",
       "      <th>total_missing</th>\n",
       "      <th>percent</th>\n",
       "    </tr>\n",
       "  </thead>\n",
       "  <tbody>\n",
       "    <tr>\n",
       "      <th>nst</th>\n",
       "      <td>604</td>\n",
       "      <td>11.02</td>\n",
       "    </tr>\n",
       "    <tr>\n",
       "      <th>horizontalError</th>\n",
       "      <td>498</td>\n",
       "      <td>9.09</td>\n",
       "    </tr>\n",
       "    <tr>\n",
       "      <th>magError</th>\n",
       "      <td>466</td>\n",
       "      <td>8.51</td>\n",
       "    </tr>\n",
       "    <tr>\n",
       "      <th>magNst</th>\n",
       "      <td>455</td>\n",
       "      <td>8.30</td>\n",
       "    </tr>\n",
       "    <tr>\n",
       "      <th>dmin</th>\n",
       "      <td>452</td>\n",
       "      <td>8.25</td>\n",
       "    </tr>\n",
       "    <tr>\n",
       "      <th>gap</th>\n",
       "      <td>451</td>\n",
       "      <td>8.23</td>\n",
       "    </tr>\n",
       "  </tbody>\n",
       "</table>\n",
       "</div>"
      ],
      "text/plain": [
       "                 total_missing  percent\n",
       "nst                        604    11.02\n",
       "horizontalError            498     9.09\n",
       "magError                   466     8.51\n",
       "magNst                     455     8.30\n",
       "dmin                       452     8.25\n",
       "gap                        451     8.23"
      ]
     },
     "execution_count": 38,
     "metadata": {},
     "output_type": "execute_result"
    }
   ],
   "source": [
    "total = df.isnull().sum()[df.isnull().sum() != 0].sort_values(ascending = False)\n",
    "percent = pd.Series(round(total/len(df)*100,2))\n",
    "pd.concat([total, percent], axis=1, keys=['total_missing', 'percent'])"
   ]
  },
  {
   "cell_type": "markdown",
   "metadata": {},
   "source": [
    "#### From the above results we can infer that only columns with numeric values , data is missing. In this scenario, we can replace the null values with mean of respective columns. In another where we have missing categorical values, we have to replace with mode of the column.\n",
    "\n",
    "#### lets fill mean in place of NaN"
   ]
  },
  {
   "cell_type": "code",
   "execution_count": 39,
   "metadata": {},
   "outputs": [
    {
     "data": {
      "text/plain": [
       "0"
      ]
     },
     "execution_count": 39,
     "metadata": {},
     "output_type": "execute_result"
    }
   ],
   "source": [
    "df.fillna(df.mean(), inplace=True)\n",
    "df.isnull().sum().sum()"
   ]
  },
  {
   "cell_type": "markdown",
   "metadata": {},
   "source": [
    "#### We can observe from above result there are no more null values. Hence null values are handled successfully!\n",
    "\n",
    "#### Lets remove unwanted columns from dataFrame which we know will not impact the magnitude.\n"
   ]
  },
  {
   "cell_type": "code",
   "execution_count": 40,
   "metadata": {},
   "outputs": [
    {
     "data": {
      "text/html": [
       "<div>\n",
       "<style scoped>\n",
       "    .dataframe tbody tr th:only-of-type {\n",
       "        vertical-align: middle;\n",
       "    }\n",
       "\n",
       "    .dataframe tbody tr th {\n",
       "        vertical-align: top;\n",
       "    }\n",
       "\n",
       "    .dataframe thead th {\n",
       "        text-align: right;\n",
       "    }\n",
       "</style>\n",
       "<table border=\"1\" class=\"dataframe\">\n",
       "  <thead>\n",
       "    <tr style=\"text-align: right;\">\n",
       "      <th></th>\n",
       "      <th>latitude</th>\n",
       "      <th>longitude</th>\n",
       "      <th>depth</th>\n",
       "      <th>mag</th>\n",
       "      <th>magType</th>\n",
       "      <th>nst</th>\n",
       "      <th>gap</th>\n",
       "      <th>dmin</th>\n",
       "      <th>rms</th>\n",
       "      <th>type</th>\n",
       "      <th>horizontalError</th>\n",
       "      <th>depthError</th>\n",
       "      <th>magError</th>\n",
       "      <th>magNst</th>\n",
       "      <th>status</th>\n",
       "    </tr>\n",
       "  </thead>\n",
       "  <tbody>\n",
       "    <tr>\n",
       "      <th>0</th>\n",
       "      <td>19.390833</td>\n",
       "      <td>-155.264328</td>\n",
       "      <td>-0.71</td>\n",
       "      <td>2.37</td>\n",
       "      <td>md</td>\n",
       "      <td>16.0</td>\n",
       "      <td>103.0</td>\n",
       "      <td>0.007544</td>\n",
       "      <td>0.34</td>\n",
       "      <td>earthquake</td>\n",
       "      <td>0.34</td>\n",
       "      <td>0.38</td>\n",
       "      <td>0.39</td>\n",
       "      <td>7.0</td>\n",
       "      <td>automatic</td>\n",
       "    </tr>\n",
       "    <tr>\n",
       "      <th>1</th>\n",
       "      <td>19.424166</td>\n",
       "      <td>-155.255005</td>\n",
       "      <td>0.37</td>\n",
       "      <td>2.43</td>\n",
       "      <td>ml</td>\n",
       "      <td>13.0</td>\n",
       "      <td>146.0</td>\n",
       "      <td>0.005713</td>\n",
       "      <td>0.10</td>\n",
       "      <td>earthquake</td>\n",
       "      <td>0.22</td>\n",
       "      <td>0.15</td>\n",
       "      <td>0.42</td>\n",
       "      <td>19.0</td>\n",
       "      <td>automatic</td>\n",
       "    </tr>\n",
       "    <tr>\n",
       "      <th>2</th>\n",
       "      <td>19.398666</td>\n",
       "      <td>-155.290161</td>\n",
       "      <td>0.79</td>\n",
       "      <td>2.40</td>\n",
       "      <td>ml</td>\n",
       "      <td>11.0</td>\n",
       "      <td>76.0</td>\n",
       "      <td>0.012210</td>\n",
       "      <td>0.17</td>\n",
       "      <td>earthquake</td>\n",
       "      <td>0.51</td>\n",
       "      <td>0.43</td>\n",
       "      <td>0.42</td>\n",
       "      <td>22.0</td>\n",
       "      <td>automatic</td>\n",
       "    </tr>\n",
       "    <tr>\n",
       "      <th>3</th>\n",
       "      <td>46.848167</td>\n",
       "      <td>-121.755837</td>\n",
       "      <td>0.49</td>\n",
       "      <td>1.33</td>\n",
       "      <td>md</td>\n",
       "      <td>8.0</td>\n",
       "      <td>93.0</td>\n",
       "      <td>0.020080</td>\n",
       "      <td>0.03</td>\n",
       "      <td>earthquake</td>\n",
       "      <td>0.39</td>\n",
       "      <td>1.05</td>\n",
       "      <td>0.15</td>\n",
       "      <td>5.0</td>\n",
       "      <td>automatic</td>\n",
       "    </tr>\n",
       "    <tr>\n",
       "      <th>4</th>\n",
       "      <td>19.411501</td>\n",
       "      <td>-155.274002</td>\n",
       "      <td>1.05</td>\n",
       "      <td>2.13</td>\n",
       "      <td>ml</td>\n",
       "      <td>31.0</td>\n",
       "      <td>40.0</td>\n",
       "      <td>0.011330</td>\n",
       "      <td>0.27</td>\n",
       "      <td>earthquake</td>\n",
       "      <td>0.26</td>\n",
       "      <td>0.20</td>\n",
       "      <td>0.33</td>\n",
       "      <td>15.0</td>\n",
       "      <td>automatic</td>\n",
       "    </tr>\n",
       "  </tbody>\n",
       "</table>\n",
       "</div>"
      ],
      "text/plain": [
       "    latitude   longitude  depth   mag magType   nst    gap      dmin   rms  \\\n",
       "0  19.390833 -155.264328  -0.71  2.37      md  16.0  103.0  0.007544  0.34   \n",
       "1  19.424166 -155.255005   0.37  2.43      ml  13.0  146.0  0.005713  0.10   \n",
       "2  19.398666 -155.290161   0.79  2.40      ml  11.0   76.0  0.012210  0.17   \n",
       "3  46.848167 -121.755837   0.49  1.33      md   8.0   93.0  0.020080  0.03   \n",
       "4  19.411501 -155.274002   1.05  2.13      ml  31.0   40.0  0.011330  0.27   \n",
       "\n",
       "         type  horizontalError  depthError  magError  magNst     status  \n",
       "0  earthquake             0.34        0.38      0.39     7.0  automatic  \n",
       "1  earthquake             0.22        0.15      0.42    19.0  automatic  \n",
       "2  earthquake             0.51        0.43      0.42    22.0  automatic  \n",
       "3  earthquake             0.39        1.05      0.15     5.0  automatic  \n",
       "4  earthquake             0.26        0.20      0.33    15.0  automatic  "
      ]
     },
     "execution_count": 40,
     "metadata": {},
     "output_type": "execute_result"
    }
   ],
   "source": [
    "df= df.drop(['id','updated','place','net','time','magSource','locationSource'], axis =1)\n",
    "df.head()"
   ]
  },
  {
   "cell_type": "markdown",
   "metadata": {},
   "source": [
    "## 2. Target Variable = Magnitude\n",
    "\n",
    "#### Now lets study more about our target variable ,magnitude\n",
    "Lets stary by plotting box plot"
   ]
  },
  {
   "cell_type": "code",
   "execution_count": 41,
   "metadata": {
    "scrolled": true
   },
   "outputs": [
    {
     "data": {
      "image/png": "[encoded data removed]",
      "text/plain": [
       "<Figure size 864x288 with 1 Axes>"
      ]
     },
     "metadata": {
      "needs_background": "light"
     },
     "output_type": "display_data"
    }
   ],
   "source": [
    "fig, ax = plt.subplots(figsize=(12,4))\n",
    "sns.boxplot(x = 'mag', data = df, orient = 'h', width = 0.8, \n",
    "                 fliersize = 3, showmeans=True, ax = ax)\n",
    "plt.show()"
   ]
  },
  {
   "cell_type": "markdown",
   "metadata": {},
   "source": [
    "There are lot of outliers above 3.7.\n",
    "The range of value are between 1.8 to 2.6 as defined by interquartile range.\n",
    "The distribution is even.\n",
    "\n",
    "#### Target variable is a continious value. Now we will chnage the target variable to fit logistic regression."
   ]
  },
  {
   "cell_type": "code",
   "execution_count": 42,
   "metadata": {},
   "outputs": [
    {
     "data": {
      "text/plain": [
       "count    5479.000000\n",
       "mean        2.312119\n",
       "std         0.638113\n",
       "min         0.950000\n",
       "25%         1.940000\n",
       "50%         2.300000\n",
       "75%         2.650000\n",
       "max         6.000000\n",
       "Name: mag, dtype: float64"
      ]
     },
     "execution_count": 42,
     "metadata": {},
     "output_type": "execute_result"
    }
   ],
   "source": [
    "df['mag'].describe()"
   ]
  },
  {
   "cell_type": "markdown",
   "metadata": {},
   "source": [
    "#### To do so we will manupulate the above value to binary by considering values above mean as 1 and otherwise 0"
   ]
  },
  {
   "cell_type": "code",
   "execution_count": 43,
   "metadata": {},
   "outputs": [
    {
     "data": {
      "text/plain": [
       "0    2824\n",
       "1    2655\n",
       "Name: mag, dtype: int64"
      ]
     },
     "execution_count": 43,
     "metadata": {},
     "output_type": "execute_result"
    }
   ],
   "source": [
    "df['mag']=np.where(df['mag']>=df['mag'].mean(),1,0)\n",
    "\n",
    "#count_plot\n",
    "df['mag'].value_counts()\n"
   ]
  },
  {
   "cell_type": "code",
   "execution_count": 44,
   "metadata": {},
   "outputs": [
    {
     "data": {
      "text/plain": [
       "<matplotlib.axes._subplots.AxesSubplot at 0x1640f319898>"
      ]
     },
     "execution_count": 44,
     "metadata": {},
     "output_type": "execute_result"
    },
    {
     "data": {
      "image/png": "[encoded data removed]",
      "text/plain": [
       "<Figure size 432x288 with 1 Axes>"
      ]
     },
     "metadata": {
      "needs_background": "light"
     },
     "output_type": "display_data"
    }
   ],
   "source": [
    "sns.countplot(x='mag', data = df, palette ='hls')"
   ]
  },
  {
   "cell_type": "code",
   "execution_count": 45,
   "metadata": {},
   "outputs": [
    {
     "data": {
      "text/plain": [
       "ml       4860\n",
       "md        486\n",
       "mb         91\n",
       "mb_lg      20\n",
       "mww        17\n",
       "mw          4\n",
       "mwr         1\n",
       "Name: magType, dtype: int64"
      ]
     },
     "execution_count": 45,
     "metadata": {},
     "output_type": "execute_result"
    }
   ],
   "source": [
    "df['magType'].value_counts()"
   ]
  },
  {
   "cell_type": "code",
   "execution_count": 46,
   "metadata": {},
   "outputs": [],
   "source": [
    "df['magType']=np.where(df['magType'].isin(['mb','mb_lg','mww','mw','mwr']),\"Others\",df['magType'])"
   ]
  },
  {
   "cell_type": "code",
   "execution_count": 47,
   "metadata": {},
   "outputs": [
    {
     "data": {
      "text/plain": [
       "ml        4860\n",
       "md         486\n",
       "Others     133\n",
       "Name: magType, dtype: int64"
      ]
     },
     "execution_count": 47,
     "metadata": {},
     "output_type": "execute_result"
    }
   ],
   "source": [
    "df['magType'].value_counts()"
   ]
  },
  {
   "cell_type": "code",
   "execution_count": 48,
   "metadata": {
    "scrolled": true
   },
   "outputs": [
    {
     "data": {
      "text/html": [
       "<div>\n",
       "<style scoped>\n",
       "    .dataframe tbody tr th:only-of-type {\n",
       "        vertical-align: middle;\n",
       "    }\n",
       "\n",
       "    .dataframe tbody tr th {\n",
       "        vertical-align: top;\n",
       "    }\n",
       "\n",
       "    .dataframe thead th {\n",
       "        text-align: right;\n",
       "    }\n",
       "</style>\n",
       "<table border=\"1\" class=\"dataframe\">\n",
       "  <thead>\n",
       "    <tr style=\"text-align: right;\">\n",
       "      <th></th>\n",
       "      <th>latitude</th>\n",
       "      <th>longitude</th>\n",
       "      <th>depth</th>\n",
       "      <th>mag</th>\n",
       "      <th>magType</th>\n",
       "      <th>nst</th>\n",
       "      <th>gap</th>\n",
       "      <th>dmin</th>\n",
       "      <th>rms</th>\n",
       "      <th>type</th>\n",
       "      <th>horizontalError</th>\n",
       "      <th>depthError</th>\n",
       "      <th>magError</th>\n",
       "      <th>magNst</th>\n",
       "      <th>status</th>\n",
       "    </tr>\n",
       "  </thead>\n",
       "  <tbody>\n",
       "    <tr>\n",
       "      <th>0</th>\n",
       "      <td>19.390833</td>\n",
       "      <td>-155.264328</td>\n",
       "      <td>-0.71</td>\n",
       "      <td>1</td>\n",
       "      <td>md</td>\n",
       "      <td>16.0</td>\n",
       "      <td>103.0</td>\n",
       "      <td>0.007544</td>\n",
       "      <td>0.34</td>\n",
       "      <td>earthquake</td>\n",
       "      <td>0.34</td>\n",
       "      <td>0.38</td>\n",
       "      <td>0.39</td>\n",
       "      <td>7.0</td>\n",
       "      <td>automatic</td>\n",
       "    </tr>\n",
       "    <tr>\n",
       "      <th>1</th>\n",
       "      <td>19.424166</td>\n",
       "      <td>-155.255005</td>\n",
       "      <td>0.37</td>\n",
       "      <td>1</td>\n",
       "      <td>ml</td>\n",
       "      <td>13.0</td>\n",
       "      <td>146.0</td>\n",
       "      <td>0.005713</td>\n",
       "      <td>0.10</td>\n",
       "      <td>earthquake</td>\n",
       "      <td>0.22</td>\n",
       "      <td>0.15</td>\n",
       "      <td>0.42</td>\n",
       "      <td>19.0</td>\n",
       "      <td>automatic</td>\n",
       "    </tr>\n",
       "    <tr>\n",
       "      <th>2</th>\n",
       "      <td>19.398666</td>\n",
       "      <td>-155.290161</td>\n",
       "      <td>0.79</td>\n",
       "      <td>1</td>\n",
       "      <td>ml</td>\n",
       "      <td>11.0</td>\n",
       "      <td>76.0</td>\n",
       "      <td>0.012210</td>\n",
       "      <td>0.17</td>\n",
       "      <td>earthquake</td>\n",
       "      <td>0.51</td>\n",
       "      <td>0.43</td>\n",
       "      <td>0.42</td>\n",
       "      <td>22.0</td>\n",
       "      <td>automatic</td>\n",
       "    </tr>\n",
       "    <tr>\n",
       "      <th>3</th>\n",
       "      <td>46.848167</td>\n",
       "      <td>-121.755837</td>\n",
       "      <td>0.49</td>\n",
       "      <td>0</td>\n",
       "      <td>md</td>\n",
       "      <td>8.0</td>\n",
       "      <td>93.0</td>\n",
       "      <td>0.020080</td>\n",
       "      <td>0.03</td>\n",
       "      <td>earthquake</td>\n",
       "      <td>0.39</td>\n",
       "      <td>1.05</td>\n",
       "      <td>0.15</td>\n",
       "      <td>5.0</td>\n",
       "      <td>automatic</td>\n",
       "    </tr>\n",
       "    <tr>\n",
       "      <th>4</th>\n",
       "      <td>19.411501</td>\n",
       "      <td>-155.274002</td>\n",
       "      <td>1.05</td>\n",
       "      <td>0</td>\n",
       "      <td>ml</td>\n",
       "      <td>31.0</td>\n",
       "      <td>40.0</td>\n",
       "      <td>0.011330</td>\n",
       "      <td>0.27</td>\n",
       "      <td>earthquake</td>\n",
       "      <td>0.26</td>\n",
       "      <td>0.20</td>\n",
       "      <td>0.33</td>\n",
       "      <td>15.0</td>\n",
       "      <td>automatic</td>\n",
       "    </tr>\n",
       "  </tbody>\n",
       "</table>\n",
       "</div>"
      ],
      "text/plain": [
       "    latitude   longitude  depth  mag magType   nst    gap      dmin   rms  \\\n",
       "0  19.390833 -155.264328  -0.71    1      md  16.0  103.0  0.007544  0.34   \n",
       "1  19.424166 -155.255005   0.37    1      ml  13.0  146.0  0.005713  0.10   \n",
       "2  19.398666 -155.290161   0.79    1      ml  11.0   76.0  0.012210  0.17   \n",
       "3  46.848167 -121.755837   0.49    0      md   8.0   93.0  0.020080  0.03   \n",
       "4  19.411501 -155.274002   1.05    0      ml  31.0   40.0  0.011330  0.27   \n",
       "\n",
       "         type  horizontalError  depthError  magError  magNst     status  \n",
       "0  earthquake             0.34        0.38      0.39     7.0  automatic  \n",
       "1  earthquake             0.22        0.15      0.42    19.0  automatic  \n",
       "2  earthquake             0.51        0.43      0.42    22.0  automatic  \n",
       "3  earthquake             0.39        1.05      0.15     5.0  automatic  \n",
       "4  earthquake             0.26        0.20      0.33    15.0  automatic  "
      ]
     },
     "execution_count": 48,
     "metadata": {},
     "output_type": "execute_result"
    }
   ],
   "source": [
    "df.head()"
   ]
  },
  {
   "cell_type": "markdown",
   "metadata": {},
   "source": [
    "Assumptions for Logistic Regresion:\n",
    "First, binary logistic regression requires the dependent variable to be binary and ordinal logistic regression requires the dependent variable to be ordinal.\n",
    "\n",
    "Second, logistic regression requires the observations to be independent of each other.  In other words, the observations should not come from repeated measurements or matched data.\n",
    "\n",
    "Third, logistic regression requires there to be little or no multicollinearity among the independent variables.  This means that the independent variables should not be too highly correlated with each other.\n",
    "\n",
    "Fourth, logistic regression assumes linearity of independent variables and log odds.  although this analysis does not require the dependent and independent variables to be related linearly, it requires that the independent variables are linearly related to the log odds.\n",
    "\n",
    "Finally, logistic regression typically requires a large sample size.  A general guideline is that you need at minimum of 10 cases with the least frequent outcome for each independent variable in your model."
   ]
  },
  {
   "cell_type": "markdown",
   "metadata": {},
   "source": [
    "## 3. Logistic Regression\n",
    "\n",
    "#### Here we will consider multiple independent to generate logistic models.\n",
    "\n",
    "#### We will implement Backward elimination (or backward deletion) process. All the independent variables are entered into the equation first and each one is deleted one at a time if they do not contribute to the regression equation. Stepwise selection is considered a variation of the previous two methods."
   ]
  },
  {
   "cell_type": "code",
   "execution_count": 49,
   "metadata": {},
   "outputs": [],
   "source": [
    "X = df[['latitude','longitude','depth','magType','nst','gap','dmin','rms','type','horizontalError','depthError','magError','magNst','status']]\n",
    "X= pd.get_dummies(X,drop_first = True)"
   ]
  },
  {
   "cell_type": "code",
   "execution_count": 16,
   "metadata": {},
   "outputs": [
    {
     "data": {
      "text/html": [
       "<div>\n",
       "<style scoped>\n",
       "    .dataframe tbody tr th:only-of-type {\n",
       "        vertical-align: middle;\n",
       "    }\n",
       "\n",
       "    .dataframe tbody tr th {\n",
       "        vertical-align: top;\n",
       "    }\n",
       "\n",
       "    .dataframe thead th {\n",
       "        text-align: right;\n",
       "    }\n",
       "</style>\n",
       "<table border=\"1\" class=\"dataframe\">\n",
       "  <thead>\n",
       "    <tr style=\"text-align: right;\">\n",
       "      <th></th>\n",
       "      <th>latitude</th>\n",
       "      <th>longitude</th>\n",
       "      <th>depth</th>\n",
       "      <th>nst</th>\n",
       "      <th>gap</th>\n",
       "      <th>dmin</th>\n",
       "      <th>rms</th>\n",
       "      <th>horizontalError</th>\n",
       "      <th>depthError</th>\n",
       "      <th>magError</th>\n",
       "      <th>magNst</th>\n",
       "      <th>magType_md</th>\n",
       "      <th>magType_ml</th>\n",
       "      <th>type_explosion</th>\n",
       "      <th>type_quarry blast</th>\n",
       "      <th>type_volcanic eruption</th>\n",
       "      <th>status_reviewed</th>\n",
       "    </tr>\n",
       "  </thead>\n",
       "  <tbody>\n",
       "    <tr>\n",
       "      <th>0</th>\n",
       "      <td>19.390833</td>\n",
       "      <td>-155.264328</td>\n",
       "      <td>-0.71</td>\n",
       "      <td>16.0</td>\n",
       "      <td>103.0</td>\n",
       "      <td>0.007544</td>\n",
       "      <td>0.34</td>\n",
       "      <td>0.34</td>\n",
       "      <td>0.38</td>\n",
       "      <td>0.39</td>\n",
       "      <td>7.0</td>\n",
       "      <td>1</td>\n",
       "      <td>0</td>\n",
       "      <td>0</td>\n",
       "      <td>0</td>\n",
       "      <td>0</td>\n",
       "      <td>0</td>\n",
       "    </tr>\n",
       "    <tr>\n",
       "      <th>1</th>\n",
       "      <td>19.424166</td>\n",
       "      <td>-155.255005</td>\n",
       "      <td>0.37</td>\n",
       "      <td>13.0</td>\n",
       "      <td>146.0</td>\n",
       "      <td>0.005713</td>\n",
       "      <td>0.10</td>\n",
       "      <td>0.22</td>\n",
       "      <td>0.15</td>\n",
       "      <td>0.42</td>\n",
       "      <td>19.0</td>\n",
       "      <td>0</td>\n",
       "      <td>1</td>\n",
       "      <td>0</td>\n",
       "      <td>0</td>\n",
       "      <td>0</td>\n",
       "      <td>0</td>\n",
       "    </tr>\n",
       "    <tr>\n",
       "      <th>2</th>\n",
       "      <td>19.398666</td>\n",
       "      <td>-155.290161</td>\n",
       "      <td>0.79</td>\n",
       "      <td>11.0</td>\n",
       "      <td>76.0</td>\n",
       "      <td>0.012210</td>\n",
       "      <td>0.17</td>\n",
       "      <td>0.51</td>\n",
       "      <td>0.43</td>\n",
       "      <td>0.42</td>\n",
       "      <td>22.0</td>\n",
       "      <td>0</td>\n",
       "      <td>1</td>\n",
       "      <td>0</td>\n",
       "      <td>0</td>\n",
       "      <td>0</td>\n",
       "      <td>0</td>\n",
       "    </tr>\n",
       "    <tr>\n",
       "      <th>3</th>\n",
       "      <td>46.848167</td>\n",
       "      <td>-121.755837</td>\n",
       "      <td>0.49</td>\n",
       "      <td>8.0</td>\n",
       "      <td>93.0</td>\n",
       "      <td>0.020080</td>\n",
       "      <td>0.03</td>\n",
       "      <td>0.39</td>\n",
       "      <td>1.05</td>\n",
       "      <td>0.15</td>\n",
       "      <td>5.0</td>\n",
       "      <td>1</td>\n",
       "      <td>0</td>\n",
       "      <td>0</td>\n",
       "      <td>0</td>\n",
       "      <td>0</td>\n",
       "      <td>0</td>\n",
       "    </tr>\n",
       "    <tr>\n",
       "      <th>4</th>\n",
       "      <td>19.411501</td>\n",
       "      <td>-155.274002</td>\n",
       "      <td>1.05</td>\n",
       "      <td>31.0</td>\n",
       "      <td>40.0</td>\n",
       "      <td>0.011330</td>\n",
       "      <td>0.27</td>\n",
       "      <td>0.26</td>\n",
       "      <td>0.20</td>\n",
       "      <td>0.33</td>\n",
       "      <td>15.0</td>\n",
       "      <td>0</td>\n",
       "      <td>1</td>\n",
       "      <td>0</td>\n",
       "      <td>0</td>\n",
       "      <td>0</td>\n",
       "      <td>0</td>\n",
       "    </tr>\n",
       "  </tbody>\n",
       "</table>\n",
       "</div>"
      ],
      "text/plain": [
       "    latitude   longitude  depth   nst    gap      dmin   rms  horizontalError  \\\n",
       "0  19.390833 -155.264328  -0.71  16.0  103.0  0.007544  0.34             0.34   \n",
       "1  19.424166 -155.255005   0.37  13.0  146.0  0.005713  0.10             0.22   \n",
       "2  19.398666 -155.290161   0.79  11.0   76.0  0.012210  0.17             0.51   \n",
       "3  46.848167 -121.755837   0.49   8.0   93.0  0.020080  0.03             0.39   \n",
       "4  19.411501 -155.274002   1.05  31.0   40.0  0.011330  0.27             0.26   \n",
       "\n",
       "   depthError  magError  magNst  magType_md  magType_ml  type_explosion  \\\n",
       "0        0.38      0.39     7.0           1           0               0   \n",
       "1        0.15      0.42    19.0           0           1               0   \n",
       "2        0.43      0.42    22.0           0           1               0   \n",
       "3        1.05      0.15     5.0           1           0               0   \n",
       "4        0.20      0.33    15.0           0           1               0   \n",
       "\n",
       "   type_quarry blast  type_volcanic eruption  status_reviewed  \n",
       "0                  0                       0                0  \n",
       "1                  0                       0                0  \n",
       "2                  0                       0                0  \n",
       "3                  0                       0                0  \n",
       "4                  0                       0                0  "
      ]
     },
     "execution_count": 16,
     "metadata": {},
     "output_type": "execute_result"
    }
   ],
   "source": [
    "X.head()"
   ]
  },
  {
   "cell_type": "code",
   "execution_count": 17,
   "metadata": {},
   "outputs": [
    {
     "name": "stdout",
     "output_type": "stream",
     "text": [
      "<class 'pandas.core.frame.DataFrame'>\n",
      "RangeIndex: 5479 entries, 0 to 5478\n",
      "Data columns (total 17 columns):\n",
      "latitude                  5479 non-null float64\n",
      "longitude                 5479 non-null float64\n",
      "depth                     5479 non-null float64\n",
      "nst                       5479 non-null float64\n",
      "gap                       5479 non-null float64\n",
      "dmin                      5479 non-null float64\n",
      "rms                       5479 non-null float64\n",
      "horizontalError           5479 non-null float64\n",
      "depthError                5479 non-null float64\n",
      "magError                  5479 non-null float64\n",
      "magNst                    5479 non-null float64\n",
      "magType_md                5479 non-null uint8\n",
      "magType_ml                5479 non-null uint8\n",
      "type_explosion            5479 non-null uint8\n",
      "type_quarry blast         5479 non-null uint8\n",
      "type_volcanic eruption    5479 non-null uint8\n",
      "status_reviewed           5479 non-null uint8\n",
      "dtypes: float64(11), uint8(6)\n",
      "memory usage: 503.0 KB\n"
     ]
    }
   ],
   "source": [
    "X.info()"
   ]
  },
  {
   "cell_type": "code",
   "execution_count": 18,
   "metadata": {},
   "outputs": [],
   "source": [
    "# function to carry out multiple regression\n",
    "from sklearn.metrics import confusion_matrix\n",
    "from sklearn import metrics\n",
    "from sklearn.metrics import roc_curve\n",
    "import statsmodels.api as sm\n",
    "def logreg_model(X,y):\n",
    "\n",
    "    \"\"\" This function is used to generate logistic model.Inputs X: independent values\n",
    "    y: target value. \n",
    "    Outputs: It will generate model along with confusion_matrix.Plotting ROC curve.\n",
    "    \"\"\"\n",
    "    logit=sm.Logit(y,X)\n",
    "    result=logit.fit(method='bfgs')\n",
    "    print(result.summary())\n",
    "\n",
    "    X_train, X_test, y_train, y_test = train_test_split(X, y, test_size=0.3, random_state=0)\n",
    "    from sklearn.linear_model import LogisticRegression\n",
    "    from sklearn import metrics\n",
    "    logreg = LogisticRegression()\n",
    "    logreg.fit(X_train, y_train)\n",
    "\n",
    "    y_pred = logreg.predict(X_test)\n",
    "    print(\"Training set score: {:.3f}\".format(logreg.score(X_train,y_train)))\n",
    "    print(\"Test set score: {:.3f}\".format(logreg.score(X_test,y_test)))\n",
    "    \n",
    "    con_matrix = confusion_matrix(y_test,y_pred)\n",
    "    print(\"Confusion matrix:\")\n",
    "    print(con_matrix)\n",
    "\n",
    "    # plotting a roc curve to get the auc\n",
    "    \n",
    "    falsepos,truepos,thresholds = roc_curve(y_test,logreg.decision_function(X_test))  # to predict confidence scores for samples\n",
    "\n",
    "    plt.plot(falsepos,truepos,label=\"ROC\")\n",
    "    plt.xlabel(\"False Positive Rate\")\n",
    "    plt.ylabel(\"True Positive Rate\")\n",
    "\n",
    "    cutoff = np.argmin(np.abs(thresholds))\n",
    "    plt.plot(falsepos[cutoff],truepos[cutoff],'o',markersize=10,label=\"cutoff\",fillstyle=\"none\")\n",
    "    plt.show()\n",
    "\n",
    "\n",
    "\n",
    "\n",
    "    logistic_auc = metrics.auc(falsepos, truepos)\n",
    "    print(\"AUC for logistic regression model :\", logistic_auc)\n",
    "\n",
    "\n"
   ]
  },
  {
   "cell_type": "markdown",
   "metadata": {},
   "source": [
    "## Model 1"
   ]
  },
  {
   "cell_type": "code",
   "execution_count": 19,
   "metadata": {},
   "outputs": [
    {
     "name": "stdout",
     "output_type": "stream",
     "text": [
      "Warning: Maximum number of iterations has been exceeded.\n",
      "         Current function value: 0.462988\n",
      "         Iterations: 35\n",
      "         Function evaluations: 38\n",
      "         Gradient evaluations: 38\n",
      "                           Logit Regression Results                           \n",
      "==============================================================================\n",
      "Dep. Variable:                    mag   No. Observations:                 5479\n",
      "Model:                          Logit   Df Residuals:                     5462\n",
      "Method:                           MLE   Df Model:                           16\n",
      "Date:                Mon, 25 Feb 2019   Pseudo R-squ.:                  0.3316\n",
      "Time:                        21:34:01   Log-Likelihood:                -2536.7\n",
      "converged:                      False   LL-Null:                       -3795.1\n",
      "                                        LLR p-value:                     0.000\n",
      "==========================================================================================\n",
      "                             coef    std err          z      P>|z|      [0.025      0.975]\n",
      "------------------------------------------------------------------------------------------\n",
      "latitude                  -0.1375      0.008    -17.266      0.000      -0.153      -0.122\n",
      "longitude                  0.0078      0.003      3.079      0.002       0.003       0.013\n",
      "depth                      0.0176      0.003      5.397      0.000       0.011       0.024\n",
      "nst                        0.0128      0.006      2.031      0.042       0.000       0.025\n",
      "gap                        0.0031      0.001      3.375      0.001       0.001       0.005\n",
      "dmin                       1.1877      0.468      2.536      0.011       0.270       2.106\n",
      "rms                        3.2961      0.440      7.493      0.000       2.434       4.158\n",
      "horizontalError            0.1729      0.079      2.201      0.028       0.019       0.327\n",
      "depthError                 0.0184      0.033      0.563      0.573      -0.046       0.082\n",
      "magError                   0.2728      0.057      4.803      0.000       0.161       0.384\n",
      "magNst                     0.1911      0.009     21.644      0.000       0.174       0.208\n",
      "magType_md                -2.2339      0.445     -5.023      0.000      -3.106      -1.362\n",
      "magType_ml                 0.1795      0.433      0.414      0.679      -0.670       1.029\n",
      "type_explosion            -0.0714      1.543     -0.046      0.963      -3.096       2.953\n",
      "type_quarry blast         -0.2877      1.218     -0.236      0.813      -2.675       2.099\n",
      "type_volcanic eruption     0.1172      1.806      0.065      0.948      -3.423       3.657\n",
      "status_reviewed           -1.0236      0.216     -4.733      0.000      -1.448      -0.600\n",
      "==========================================================================================\n",
      "Training set score: 0.811\n",
      "Test set score: 0.790\n",
      "Confusion matrix:\n",
      "[[714 163]\n",
      " [183 584]]\n"
     ]
    },
    {
     "name": "stderr",
     "output_type": "stream",
     "text": [
      "C:\\Users\\prafu\\Anaconda3\\lib\\site-packages\\statsmodels\\base\\model.py:508: ConvergenceWarning: Maximum Likelihood optimization failed to converge. Check mle_retvals\n",
      "  \"Check mle_retvals\", ConvergenceWarning)\n"
     ]
    },
    {
     "data": {
      "image/png": "[encoded data removed]",
      "text/plain": [
       "<Figure size 432x288 with 1 Axes>"
      ]
     },
     "metadata": {
      "needs_background": "light"
     },
     "output_type": "display_data"
    },
    {
     "name": "stdout",
     "output_type": "stream",
     "text": [
      "AUC for logistic regression model : 0.8639667350024307\n"
     ]
    }
   ],
   "source": [
    "y = df['mag']\n",
    "logreg_model(X,y)"
   ]
  },
  {
   "cell_type": "markdown",
   "metadata": {},
   "source": [
    "* Is the relationship significant? \n",
    " Yes\n",
    "* Are any model assumptions violated?      \n",
    " NO its in compliance with all 4\n",
    "* Does the model make sense?  Interpret the meaning of each independent variable.\n",
    "Yes. \n",
    "Here the terms that we are removing are based on z score and p value which is less than 0.05. \n",
    "the variables are independent of each other but contribute to the target variable.\n",
    "* Cross-validate the model. How well did it do?\n",
    "\n",
    "\n",
    "* Calculate the probability of getting the dependent variable\n",
    "From confusion maxtrix generated for every model we will sum true positives and negatives divided by total number of values"
   ]
  },
  {
   "cell_type": "code",
   "execution_count": 20,
   "metadata": {},
   "outputs": [
    {
     "data": {
      "text/html": [
       "<div>\n",
       "<style scoped>\n",
       "    .dataframe tbody tr th:only-of-type {\n",
       "        vertical-align: middle;\n",
       "    }\n",
       "\n",
       "    .dataframe tbody tr th {\n",
       "        vertical-align: top;\n",
       "    }\n",
       "\n",
       "    .dataframe thead th {\n",
       "        text-align: right;\n",
       "    }\n",
       "</style>\n",
       "<table border=\"1\" class=\"dataframe\">\n",
       "  <thead>\n",
       "    <tr style=\"text-align: right;\">\n",
       "      <th></th>\n",
       "      <th>VIF Factor</th>\n",
       "      <th>features</th>\n",
       "    </tr>\n",
       "  </thead>\n",
       "  <tbody>\n",
       "    <tr>\n",
       "      <th>0</th>\n",
       "      <td>9.2</td>\n",
       "      <td>latitude</td>\n",
       "    </tr>\n",
       "    <tr>\n",
       "      <th>1</th>\n",
       "      <td>47.7</td>\n",
       "      <td>longitude</td>\n",
       "    </tr>\n",
       "    <tr>\n",
       "      <th>2</th>\n",
       "      <td>1.5</td>\n",
       "      <td>depth</td>\n",
       "    </tr>\n",
       "    <tr>\n",
       "      <th>3</th>\n",
       "      <td>9.7</td>\n",
       "      <td>nst</td>\n",
       "    </tr>\n",
       "    <tr>\n",
       "      <th>4</th>\n",
       "      <td>6.9</td>\n",
       "      <td>gap</td>\n",
       "    </tr>\n",
       "    <tr>\n",
       "      <th>5</th>\n",
       "      <td>1.7</td>\n",
       "      <td>dmin</td>\n",
       "    </tr>\n",
       "    <tr>\n",
       "      <th>6</th>\n",
       "      <td>5.8</td>\n",
       "      <td>rms</td>\n",
       "    </tr>\n",
       "    <tr>\n",
       "      <th>7</th>\n",
       "      <td>3.6</td>\n",
       "      <td>horizontalError</td>\n",
       "    </tr>\n",
       "    <tr>\n",
       "      <th>8</th>\n",
       "      <td>2.9</td>\n",
       "      <td>depthError</td>\n",
       "    </tr>\n",
       "    <tr>\n",
       "      <th>9</th>\n",
       "      <td>2.1</td>\n",
       "      <td>magError</td>\n",
       "    </tr>\n",
       "    <tr>\n",
       "      <th>10</th>\n",
       "      <td>2.4</td>\n",
       "      <td>magNst</td>\n",
       "    </tr>\n",
       "    <tr>\n",
       "      <th>11</th>\n",
       "      <td>6.6</td>\n",
       "      <td>magType_md</td>\n",
       "    </tr>\n",
       "    <tr>\n",
       "      <th>12</th>\n",
       "      <td>62.4</td>\n",
       "      <td>magType_ml</td>\n",
       "    </tr>\n",
       "    <tr>\n",
       "      <th>13</th>\n",
       "      <td>1.1</td>\n",
       "      <td>type_explosion</td>\n",
       "    </tr>\n",
       "    <tr>\n",
       "      <th>14</th>\n",
       "      <td>2.0</td>\n",
       "      <td>type_quarry blast</td>\n",
       "    </tr>\n",
       "    <tr>\n",
       "      <th>15</th>\n",
       "      <td>1.1</td>\n",
       "      <td>type_volcanic eruption</td>\n",
       "    </tr>\n",
       "    <tr>\n",
       "      <th>16</th>\n",
       "      <td>2.4</td>\n",
       "      <td>status_reviewed</td>\n",
       "    </tr>\n",
       "  </tbody>\n",
       "</table>\n",
       "</div>"
      ],
      "text/plain": [
       "    VIF Factor                features\n",
       "0          9.2                latitude\n",
       "1         47.7               longitude\n",
       "2          1.5                   depth\n",
       "3          9.7                     nst\n",
       "4          6.9                     gap\n",
       "5          1.7                    dmin\n",
       "6          5.8                     rms\n",
       "7          3.6         horizontalError\n",
       "8          2.9              depthError\n",
       "9          2.1                magError\n",
       "10         2.4                  magNst\n",
       "11         6.6              magType_md\n",
       "12        62.4              magType_ml\n",
       "13         1.1          type_explosion\n",
       "14         2.0       type_quarry blast\n",
       "15         1.1  type_volcanic eruption\n",
       "16         2.4         status_reviewed"
      ]
     },
     "execution_count": 20,
     "metadata": {},
     "output_type": "execute_result"
    }
   ],
   "source": [
    "from statsmodels.stats.outliers_influence import variance_inflation_factor\n",
    "vif = pd.DataFrame()\n",
    "vif[\"VIF Factor\"] = [variance_inflation_factor(X.values, i) for i in range(X.shape[1])]\n",
    "vif[\"features\"] = X.columns\n",
    "vif.round(1)"
   ]
  },
  {
   "cell_type": "markdown",
   "metadata": {},
   "source": [
    "VIF is being performed now as a validation factor. We see that longitude and magType_ml lie above the range.There is a VIF much above 10 or a very high value, then multi co linearity exists and one of the linear model assusmptions is violated.\n",
    "\n",
    "We have to eliminate one of the columns.Hence we will eliminate magType_ml\n",
    "\n",
    "Other VIF factor which is well wihin the range, the multi- collinearity is taken care.\n",
    "So the linear model assumption is satisfied.\n",
    "\n",
    "* Is there any multi-colinearity in the model?   \n",
    "Yes.\n",
    "* In the multiple regression models are predictor variables independent of all the other predictor variables?\n",
    "Not all the variable. magType_ml and longitude has high VIF score hence showing signs of correlation with eachother.\n",
    "* In multiple regression models rank the most significant predictor variables and exclude insignificant ones from the model.\n",
    "'latitude','longitude','depth','nst','gap','dmin','rms','horizontalError','depthError','magError','magType_md','status_reviewed\n",
    "\n",
    "* Cross-validate the models. How well did they do?\n",
    "They did not have impact on the model.\n",
    "\n",
    "##  Model 2"
   ]
  },
  {
   "cell_type": "code",
   "execution_count": 21,
   "metadata": {},
   "outputs": [],
   "source": [
    "X = X[['latitude','longitude','depth','nst','gap','dmin','rms','horizontalError','depthError','magError','magType_md','status_reviewed']]\n",
    "\n",
    "\n",
    "#X = X[['latitude','longitude','depth','nst','gap','dmin','rms','horizontalError','depthError','magError','magType_md','type_explosion','type_quarry blast','status_reviewed']]\n",
    "\n",
    "\n"
   ]
  },
  {
   "cell_type": "code",
   "execution_count": 22,
   "metadata": {},
   "outputs": [
    {
     "name": "stdout",
     "output_type": "stream",
     "text": [
      "Warning: Maximum number of iterations has been exceeded.\n",
      "         Current function value: 0.513173\n",
      "         Iterations: 35\n",
      "         Function evaluations: 38\n",
      "         Gradient evaluations: 38\n",
      "                           Logit Regression Results                           \n",
      "==============================================================================\n",
      "Dep. Variable:                    mag   No. Observations:                 5479\n",
      "Model:                          Logit   Df Residuals:                     5467\n",
      "Method:                           MLE   Df Model:                           11\n",
      "Date:                Mon, 25 Feb 2019   Pseudo R-squ.:                  0.2591\n",
      "Time:                        21:34:02   Log-Likelihood:                -2811.7\n",
      "converged:                      False   LL-Null:                       -3795.1\n",
      "                                        LLR p-value:                     0.000\n",
      "===================================================================================\n",
      "                      coef    std err          z      P>|z|      [0.025      0.975]\n",
      "-----------------------------------------------------------------------------------\n",
      "latitude           -0.1210      0.007    -16.967      0.000      -0.135      -0.107\n",
      "longitude           0.0015      0.001      1.353      0.176      -0.001       0.004\n",
      "depth               0.0115      0.003      3.761      0.000       0.005       0.017\n",
      "nst                 0.0813      0.005     16.525      0.000       0.072       0.091\n",
      "gap                 0.0018      0.001      2.171      0.030       0.000       0.003\n",
      "dmin                1.6275      0.458      3.550      0.000       0.729       2.526\n",
      "rms                 2.7350      0.406      6.744      0.000       1.940       3.530\n",
      "horizontalError     0.3221      0.085      3.789      0.000       0.155       0.489\n",
      "depthError         -0.0254      0.017     -1.479      0.139      -0.059       0.008\n",
      "magError            0.6744      0.055     12.199      0.000       0.566       0.783\n",
      "magType_md         -2.7186      0.231    -11.793      0.000      -3.170      -2.267\n",
      "status_reviewed     0.2814      0.169      1.666      0.096      -0.050       0.612\n",
      "===================================================================================\n",
      "Training set score: 0.748\n",
      "Test set score: 0.731\n",
      "Confusion matrix:\n",
      "[[664 213]\n",
      " [229 538]]\n"
     ]
    },
    {
     "name": "stderr",
     "output_type": "stream",
     "text": [
      "C:\\Users\\prafu\\Anaconda3\\lib\\site-packages\\statsmodels\\base\\model.py:508: ConvergenceWarning: Maximum Likelihood optimization failed to converge. Check mle_retvals\n",
      "  \"Check mle_retvals\", ConvergenceWarning)\n"
     ]
    },
    {
     "data": {
      "image/png": "[encoded data removed]",
      "text/plain": [
       "<Figure size 432x288 with 1 Axes>"
      ]
     },
     "metadata": {
      "needs_background": "light"
     },
     "output_type": "display_data"
    },
    {
     "name": "stdout",
     "output_type": "stream",
     "text": [
      "AUC for logistic regression model : 0.8121990488494171\n"
     ]
    }
   ],
   "source": [
    "logreg_model(X,y)"
   ]
  },
  {
   "cell_type": "markdown",
   "metadata": {},
   "source": [
    "* Is the relationship significant? \n",
    " Yes\n",
    "* Are any model assumptions violated?      \n",
    " NO its in compliance with all 4\n",
    "* Does the model make sense?  Interpret the meaning of each independent variable.\n",
    "Yes. \n",
    "Here the terms that we are removing are based on z score and p value which is less than 0.05. \n",
    "the variables are independent of each other but contribute to the target variable.\n",
    "* Cross-validate the model. How well did it do?\n",
    "\n",
    "\n",
    "* Calculate the probability of getting the dependent variable\n",
    "From confusion maxtrix generated for every model we will sum true positives and negatives divided by total number of values"
   ]
  },
  {
   "cell_type": "markdown",
   "metadata": {},
   "source": [
    "Looking at the Z score, We can eliminate longitude as it is with least score. The value is not significant.\n",
    "\n",
    "Removing longitude\n",
    "\n",
    "## Model 3"
   ]
  },
  {
   "cell_type": "code",
   "execution_count": 23,
   "metadata": {},
   "outputs": [],
   "source": [
    "X = X[['latitude','depth','nst','gap','dmin','rms','horizontalError','depthError','magError','magType_md','status_reviewed']]"
   ]
  },
  {
   "cell_type": "code",
   "execution_count": 24,
   "metadata": {},
   "outputs": [
    {
     "name": "stdout",
     "output_type": "stream",
     "text": [
      "Warning: Maximum number of iterations has been exceeded.\n",
      "         Current function value: 0.510195\n",
      "         Iterations: 35\n",
      "         Function evaluations: 40\n",
      "         Gradient evaluations: 40\n",
      "                           Logit Regression Results                           \n",
      "==============================================================================\n",
      "Dep. Variable:                    mag   No. Observations:                 5479\n",
      "Model:                          Logit   Df Residuals:                     5468\n",
      "Method:                           MLE   Df Model:                           10\n",
      "Date:                Mon, 25 Feb 2019   Pseudo R-squ.:                  0.2634\n",
      "Time:                        21:34:03   Log-Likelihood:                -2795.4\n",
      "converged:                      False   LL-Null:                       -3795.1\n",
      "                                        LLR p-value:                     0.000\n",
      "===================================================================================\n",
      "                      coef    std err          z      P>|z|      [0.025      0.975]\n",
      "-----------------------------------------------------------------------------------\n",
      "latitude           -0.1392      0.006    -21.845      0.000      -0.152      -0.127\n",
      "depth               0.0089      0.003      2.816      0.005       0.003       0.015\n",
      "nst                 0.0749      0.004     19.145      0.000       0.067       0.083\n",
      "gap                 0.0022      0.001      3.199      0.001       0.001       0.004\n",
      "dmin                2.2982      0.512      4.489      0.000       1.295       3.302\n",
      "rms                 3.8184      0.411      9.294      0.000       3.013       4.624\n",
      "horizontalError     0.2106      0.069      3.048      0.002       0.075       0.346\n",
      "depthError         -0.0511      0.019     -2.721      0.007      -0.088      -0.014\n",
      "magError            0.6569      0.053     12.297      0.000       0.552       0.762\n",
      "magType_md         -2.6769      0.231    -11.609      0.000      -3.129      -2.225\n",
      "status_reviewed     0.8547      0.157      5.427      0.000       0.546       1.163\n",
      "===================================================================================\n",
      "Training set score: 0.745\n",
      "Test set score: 0.732\n",
      "Confusion matrix:\n",
      "[[666 211]\n",
      " [230 537]]\n"
     ]
    },
    {
     "name": "stderr",
     "output_type": "stream",
     "text": [
      "C:\\Users\\prafu\\Anaconda3\\lib\\site-packages\\statsmodels\\base\\model.py:508: ConvergenceWarning: Maximum Likelihood optimization failed to converge. Check mle_retvals\n",
      "  \"Check mle_retvals\", ConvergenceWarning)\n"
     ]
    },
    {
     "data": {
      "image/png": "[encoded data removed]",
      "text/plain": [
       "<Figure size 432x288 with 1 Axes>"
      ]
     },
     "metadata": {
      "needs_background": "light"
     },
     "output_type": "display_data"
    },
    {
     "name": "stdout",
     "output_type": "stream",
     "text": [
      "AUC for logistic regression model : 0.8095409412495781\n"
     ]
    }
   ],
   "source": [
    "logreg_model(X,y)"
   ]
  },
  {
   "cell_type": "markdown",
   "metadata": {},
   "source": [
    "* Is the relationship significant? \n",
    " Yes\n",
    "* Are any model assumptions violated?      \n",
    " NO its in compliance with all 4\n",
    "* Does the model make sense?  Interpret the meaning of each independent variable.\n",
    "Yes. \n",
    "Here the terms that we are removing are based on z score and p value which is less than 0.05. \n",
    "the variables are independent of each other but contribute to the target variable.\n",
    "* Cross-validate the model. How well did it do?\n",
    "\n",
    "\n",
    "* Calculate the probability of getting the dependent variable\n",
    "From confusion maxtrix generated for every model we will sum true positives and negatives divided by total number of values"
   ]
  },
  {
   "cell_type": "markdown",
   "metadata": {},
   "source": [
    "Looking at the Z score, We can eliminate depth as it is with least score. The value is not significant.\n",
    "\n",
    "Removing depth\n",
    "\n",
    "## Model 4"
   ]
  },
  {
   "cell_type": "code",
   "execution_count": 25,
   "metadata": {},
   "outputs": [],
   "source": [
    "X = X[['latitude','nst','gap','dmin','rms','horizontalError','depthError','magError','magType_md','status_reviewed']]"
   ]
  },
  {
   "cell_type": "code",
   "execution_count": 26,
   "metadata": {},
   "outputs": [
    {
     "name": "stdout",
     "output_type": "stream",
     "text": [
      "Warning: Maximum number of iterations has been exceeded.\n",
      "         Current function value: 0.510260\n",
      "         Iterations: 35\n",
      "         Function evaluations: 38\n",
      "         Gradient evaluations: 38\n",
      "                           Logit Regression Results                           \n",
      "==============================================================================\n",
      "Dep. Variable:                    mag   No. Observations:                 5479\n",
      "Model:                          Logit   Df Residuals:                     5469\n",
      "Method:                           MLE   Df Model:                            9\n",
      "Date:                Mon, 25 Feb 2019   Pseudo R-squ.:                  0.2633\n",
      "Time:                        21:34:03   Log-Likelihood:                -2795.7\n",
      "converged:                      False   LL-Null:                       -3795.1\n",
      "                                        LLR p-value:                     0.000\n",
      "===================================================================================\n",
      "                      coef    std err          z      P>|z|      [0.025      0.975]\n",
      "-----------------------------------------------------------------------------------\n",
      "latitude           -0.1321      0.006    -22.190      0.000      -0.144      -0.120\n",
      "nst                 0.0734      0.004     19.983      0.000       0.066       0.081\n",
      "gap                 0.0016      0.001      2.422      0.015       0.000       0.003\n",
      "dmin                2.3373      0.515      4.542      0.000       1.329       3.346\n",
      "rms                 3.7818      0.402      9.398      0.000       2.993       4.571\n",
      "horizontalError     0.2099      0.064      3.299      0.001       0.085       0.335\n",
      "depthError         -0.0540      0.018     -3.058      0.002      -0.089      -0.019\n",
      "magError            0.6226      0.053     11.850      0.000       0.520       0.726\n",
      "magType_md         -2.1052      0.187    -11.252      0.000      -2.472      -1.738\n",
      "status_reviewed     1.1015      0.155      7.122      0.000       0.798       1.405\n",
      "===================================================================================\n",
      "Training set score: 0.747\n",
      "Test set score: 0.734\n",
      "Confusion matrix:\n",
      "[[670 207]\n",
      " [231 536]]\n"
     ]
    },
    {
     "name": "stderr",
     "output_type": "stream",
     "text": [
      "C:\\Users\\prafu\\Anaconda3\\lib\\site-packages\\statsmodels\\base\\model.py:508: ConvergenceWarning: Maximum Likelihood optimization failed to converge. Check mle_retvals\n",
      "  \"Check mle_retvals\", ConvergenceWarning)\n"
     ]
    },
    {
     "data": {
      "image/png": "[encoded data removed]",
      "text/plain": [
       "<Figure size 432x288 with 1 Axes>"
      ]
     },
     "metadata": {
      "needs_background": "light"
     },
     "output_type": "display_data"
    },
    {
     "name": "stdout",
     "output_type": "stream",
     "text": [
      "AUC for logistic regression model : 0.8104031909184297\n"
     ]
    }
   ],
   "source": [
    "logreg_model(X,y)"
   ]
  },
  {
   "cell_type": "markdown",
   "metadata": {},
   "source": [
    "Looking at the Z score, We can eliminate gap as it is with least score. The value is not significant.\n",
    "\n",
    "Removing gap\n",
    "\n",
    "## Model 4"
   ]
  },
  {
   "cell_type": "code",
   "execution_count": 27,
   "metadata": {},
   "outputs": [],
   "source": [
    "X = X[['latitude','nst','dmin','rms','horizontalError','depthError','magError','magType_md','status_reviewed']]"
   ]
  },
  {
   "cell_type": "code",
   "execution_count": 28,
   "metadata": {},
   "outputs": [
    {
     "name": "stdout",
     "output_type": "stream",
     "text": [
      "Warning: Maximum number of iterations has been exceeded.\n",
      "         Current function value: 0.507711\n",
      "         Iterations: 35\n",
      "         Function evaluations: 38\n",
      "         Gradient evaluations: 38\n",
      "                           Logit Regression Results                           \n",
      "==============================================================================\n",
      "Dep. Variable:                    mag   No. Observations:                 5479\n",
      "Model:                          Logit   Df Residuals:                     5470\n",
      "Method:                           MLE   Df Model:                            8\n",
      "Date:                Mon, 25 Feb 2019   Pseudo R-squ.:                  0.2670\n",
      "Time:                        21:34:03   Log-Likelihood:                -2781.7\n",
      "converged:                      False   LL-Null:                       -3795.1\n",
      "                                        LLR p-value:                     0.000\n",
      "===================================================================================\n",
      "                      coef    std err          z      P>|z|      [0.025      0.975]\n",
      "-----------------------------------------------------------------------------------\n",
      "latitude           -0.1318      0.005    -25.118      0.000      -0.142      -0.122\n",
      "nst                 0.0739      0.004     20.521      0.000       0.067       0.081\n",
      "dmin                2.7058      0.533      5.076      0.000       1.661       3.751\n",
      "rms                 4.3930      0.404     10.884      0.000       3.602       5.184\n",
      "horizontalError     0.2140      0.056      3.849      0.000       0.105       0.323\n",
      "depthError         -0.0454      0.018     -2.490      0.013      -0.081      -0.010\n",
      "magError            0.6940      0.056     12.496      0.000       0.585       0.803\n",
      "magType_md         -1.9892      0.184    -10.796      0.000      -2.350      -1.628\n",
      "status_reviewed     0.5935      0.148      4.019      0.000       0.304       0.883\n",
      "===================================================================================\n",
      "Training set score: 0.747\n",
      "Test set score: 0.734\n",
      "Confusion matrix:\n",
      "[[666 211]\n",
      " [226 541]]\n"
     ]
    },
    {
     "name": "stderr",
     "output_type": "stream",
     "text": [
      "C:\\Users\\prafu\\Anaconda3\\lib\\site-packages\\statsmodels\\base\\model.py:508: ConvergenceWarning: Maximum Likelihood optimization failed to converge. Check mle_retvals\n",
      "  \"Check mle_retvals\", ConvergenceWarning)\n"
     ]
    },
    {
     "data": {
      "image/png": "[encoded data removed]",
      "text/plain": [
       "<Figure size 432x288 with 1 Axes>"
      ]
     },
     "metadata": {
      "needs_background": "light"
     },
     "output_type": "display_data"
    },
    {
     "name": "stdout",
     "output_type": "stream",
     "text": [
      "AUC for logistic regression model : 0.8095141817770966\n"
     ]
    }
   ],
   "source": [
    "logreg_model(X,y)"
   ]
  },
  {
   "cell_type": "markdown",
   "metadata": {},
   "source": [
    "Looking at the Z score, We can eliminate horizontalError as it is with least score. The value is not significant.\n",
    "\n",
    "Removing horizontalError\n",
    "\n",
    "## Model 5"
   ]
  },
  {
   "cell_type": "code",
   "execution_count": 29,
   "metadata": {},
   "outputs": [],
   "source": [
    "X = X[['latitude','nst','dmin','rms','depthError','magError','magType_md','status_reviewed']]"
   ]
  },
  {
   "cell_type": "code",
   "execution_count": 30,
   "metadata": {},
   "outputs": [
    {
     "name": "stdout",
     "output_type": "stream",
     "text": [
      "Warning: Maximum number of iterations has been exceeded.\n",
      "         Current function value: 0.507532\n",
      "         Iterations: 35\n",
      "         Function evaluations: 38\n",
      "         Gradient evaluations: 38\n",
      "                           Logit Regression Results                           \n",
      "==============================================================================\n",
      "Dep. Variable:                    mag   No. Observations:                 5479\n",
      "Model:                          Logit   Df Residuals:                     5471\n",
      "Method:                           MLE   Df Model:                            7\n",
      "Date:                Mon, 25 Feb 2019   Pseudo R-squ.:                  0.2673\n",
      "Time:                        21:34:04   Log-Likelihood:                -2780.8\n",
      "converged:                      False   LL-Null:                       -3795.1\n",
      "                                        LLR p-value:                     0.000\n",
      "===================================================================================\n",
      "                      coef    std err          z      P>|z|      [0.025      0.975]\n",
      "-----------------------------------------------------------------------------------\n",
      "latitude           -0.1294      0.005    -25.068      0.000      -0.140      -0.119\n",
      "nst                 0.0695      0.003     20.055      0.000       0.063       0.076\n",
      "dmin                4.6570      0.628      7.419      0.000       3.427       5.887\n",
      "rms                 4.9754      0.394     12.627      0.000       4.203       5.748\n",
      "depthError         -0.0178      0.015     -1.166      0.244      -0.048       0.012\n",
      "magError            0.6016      0.052     11.597      0.000       0.500       0.703\n",
      "magType_md         -1.5697      0.167     -9.423      0.000      -1.896      -1.243\n",
      "status_reviewed     0.1397      0.146      0.956      0.339      -0.147       0.426\n",
      "===================================================================================\n",
      "Training set score: 0.746\n",
      "Test set score: 0.734\n",
      "Confusion matrix:\n",
      "[[668 209]\n",
      " [228 539]]\n"
     ]
    },
    {
     "name": "stderr",
     "output_type": "stream",
     "text": [
      "C:\\Users\\prafu\\Anaconda3\\lib\\site-packages\\statsmodels\\base\\model.py:508: ConvergenceWarning: Maximum Likelihood optimization failed to converge. Check mle_retvals\n",
      "  \"Check mle_retvals\", ConvergenceWarning)\n"
     ]
    },
    {
     "data": {
      "image/png": "[encoded data removed]",
      "text/plain": [
       "<Figure size 432x288 with 1 Axes>"
      ]
     },
     "metadata": {
      "needs_background": "light"
     },
     "output_type": "display_data"
    },
    {
     "name": "stdout",
     "output_type": "stream",
     "text": [
      "AUC for logistic regression model : 0.807745083318591\n"
     ]
    }
   ],
   "source": [
    "logreg_model(X,y)"
   ]
  },
  {
   "cell_type": "markdown",
   "metadata": {},
   "source": [
    "Looking at the Z score, We can eliminate status_reviewed as it is with least score. The value is not significant.\n",
    "\n",
    "Removing status_reviewed\n",
    "\n",
    "## Model 6"
   ]
  },
  {
   "cell_type": "code",
   "execution_count": 31,
   "metadata": {},
   "outputs": [],
   "source": [
    "X = X[['latitude','nst','dmin','rms','depthError','magError','magType_md']]"
   ]
  },
  {
   "cell_type": "code",
   "execution_count": 32,
   "metadata": {},
   "outputs": [
    {
     "name": "stdout",
     "output_type": "stream",
     "text": [
      "Warning: Maximum number of iterations has been exceeded.\n",
      "         Current function value: 0.507786\n",
      "         Iterations: 35\n",
      "         Function evaluations: 38\n",
      "         Gradient evaluations: 38\n",
      "                           Logit Regression Results                           \n",
      "==============================================================================\n",
      "Dep. Variable:                    mag   No. Observations:                 5479\n",
      "Model:                          Logit   Df Residuals:                     5472\n",
      "Method:                           MLE   Df Model:                            6\n",
      "Date:                Mon, 25 Feb 2019   Pseudo R-squ.:                  0.2669\n",
      "Time:                        21:34:04   Log-Likelihood:                -2782.2\n",
      "converged:                      False   LL-Null:                       -3795.1\n",
      "                                        LLR p-value:                     0.000\n",
      "==============================================================================\n",
      "                 coef    std err          z      P>|z|      [0.025      0.975]\n",
      "------------------------------------------------------------------------------\n",
      "latitude      -0.1284      0.005    -25.799      0.000      -0.138      -0.119\n",
      "nst            0.0701      0.003     20.138      0.000       0.063       0.077\n",
      "dmin           4.9299      0.589      8.367      0.000       3.775       6.085\n",
      "rms            4.8536      0.382     12.710      0.000       4.105       5.602\n",
      "depthError    -0.0184      0.015     -1.194      0.233      -0.049       0.012\n",
      "magError       0.5980      0.051     11.690      0.000       0.498       0.698\n",
      "magType_md    -1.5702      0.167     -9.416      0.000      -1.897      -1.243\n",
      "==============================================================================\n",
      "Training set score: 0.744\n",
      "Test set score: 0.732\n",
      "Confusion matrix:\n",
      "[[667 210]\n",
      " [230 537]]\n"
     ]
    },
    {
     "name": "stderr",
     "output_type": "stream",
     "text": [
      "C:\\Users\\prafu\\Anaconda3\\lib\\site-packages\\statsmodels\\base\\model.py:508: ConvergenceWarning: Maximum Likelihood optimization failed to converge. Check mle_retvals\n",
      "  \"Check mle_retvals\", ConvergenceWarning)\n"
     ]
    },
    {
     "data": {
      "image/png": "[encoded data removed]",
      "text/plain": [
       "<Figure size 432x288 with 1 Axes>"
      ]
     },
     "metadata": {
      "needs_background": "light"
     },
     "output_type": "display_data"
    },
    {
     "name": "stdout",
     "output_type": "stream",
     "text": [
      "AUC for logistic regression model : 0.8071875943085576\n"
     ]
    }
   ],
   "source": [
    "logreg_model(X,y)"
   ]
  }
 ],
 "metadata": {
  "kernelspec": {
   "display_name": "Python 3",
   "language": "python",
   "name": "python3"
  },
  "language_info": {
   "codemirror_mode": {
    "name": "ipython",
    "version": 3
   },
   "file_extension": ".py",
   "mimetype": "text/x-python",
   "name": "python",
   "nbconvert_exporter": "python",
   "pygments_lexer": "ipython3",
   "version": "3.7.1"
  }
 },
 "nbformat": 4,
 "nbformat_minor": 2
}
