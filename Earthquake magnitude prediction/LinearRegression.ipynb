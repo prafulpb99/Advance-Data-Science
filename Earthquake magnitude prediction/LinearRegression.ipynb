{
 "cells": [
  {
   "cell_type": "markdown",
   "metadata": {},
   "source": [
    "# Linear Regression\n",
    "\n",
    "\n",
    "\n",
    "## Index\n",
    "\n",
    " 1. Importing Libraries, Data Cleaning & Pre-processing\n",
    " 2. Target Variable = Magnitude\n",
    " 3. Data Visualisation\n",
    "   - 3.1 Continious Variables\n",
    "   - 3.2 Categorical variables\n",
    " 4. Linear Regression\n",
    "   - 4.1 Simple Linear Regression\n",
    "   - 4.2 Multiple Regression Model\n",
    " 5. Interaction\n",
    " 6. Regularization \n",
    "   - 6.1 Ridge Regression\n",
    "    \n",
    "\n",
    "\n"
   ]
  },
  {
   "cell_type": "markdown",
   "metadata": {},
   "source": [
    "## 1. Importing Libraries, Data Cleaning & Pre-processing"
   ]
  },
  {
   "cell_type": "code",
   "execution_count": 1,
   "metadata": {},
   "outputs": [],
   "source": [
    "import matplotlib.pyplot as plt\n",
    "import numpy as np\n",
    "import pandas as pd\n",
    "from scipy import stats\n",
    "import seaborn as sns\n",
    "\n",
    "# to split train and test dataset\n",
    "from sklearn.model_selection import train_test_split \n",
    "# to implement linear regression\n",
    "from sklearn.linear_model import LinearRegression\n",
    "from sklearn.metrics import mean_squared_error\n",
    "# to ignore warning msg\n",
    "import warnings \n",
    "warnings.filterwarnings('ignore')"
   ]
  },
  {
   "cell_type": "markdown",
   "metadata": {},
   "source": [
    "#### Importing the dataset by reading it from a CSV file."
   ]
  },
  {
   "cell_type": "code",
   "execution_count": 2,
   "metadata": {},
   "outputs": [],
   "source": [
    "df = pd.read_csv('earthquake_data.csv')"
   ]
  },
  {
   "cell_type": "markdown",
   "metadata": {},
   "source": [
    "#### we will summarize the dataset's. Output varies depending on numeric data or categorical data type. In case of numeric data:- count, mean, std, min, max, 75th, 50th ,25th percentiles is displayed In case of categorical data:- count, unique, top, freq, first and last items"
   ]
  },
  {
   "cell_type": "code",
   "execution_count": 3,
   "metadata": {},
   "outputs": [
    {
     "data": {
      "text/html": [
       "<div>\n",
       "<style scoped>\n",
       "    .dataframe tbody tr th:only-of-type {\n",
       "        vertical-align: middle;\n",
       "    }\n",
       "\n",
       "    .dataframe tbody tr th {\n",
       "        vertical-align: top;\n",
       "    }\n",
       "\n",
       "    .dataframe thead th {\n",
       "        text-align: right;\n",
       "    }\n",
       "</style>\n",
       "<table border=\"1\" class=\"dataframe\">\n",
       "  <thead>\n",
       "    <tr style=\"text-align: right;\">\n",
       "      <th></th>\n",
       "      <th>time</th>\n",
       "      <th>latitude</th>\n",
       "      <th>longitude</th>\n",
       "      <th>depth</th>\n",
       "      <th>mag</th>\n",
       "      <th>magType</th>\n",
       "      <th>nst</th>\n",
       "      <th>gap</th>\n",
       "      <th>dmin</th>\n",
       "      <th>rms</th>\n",
       "      <th>...</th>\n",
       "      <th>updated</th>\n",
       "      <th>place</th>\n",
       "      <th>type</th>\n",
       "      <th>horizontalError</th>\n",
       "      <th>depthError</th>\n",
       "      <th>magError</th>\n",
       "      <th>magNst</th>\n",
       "      <th>status</th>\n",
       "      <th>locationSource</th>\n",
       "      <th>magSource</th>\n",
       "    </tr>\n",
       "  </thead>\n",
       "  <tbody>\n",
       "    <tr>\n",
       "      <th>count</th>\n",
       "      <td>5479</td>\n",
       "      <td>5479.000000</td>\n",
       "      <td>5479.000000</td>\n",
       "      <td>5479.000000</td>\n",
       "      <td>5479.000000</td>\n",
       "      <td>5479</td>\n",
       "      <td>4875.000000</td>\n",
       "      <td>5028.000000</td>\n",
       "      <td>5027.000000</td>\n",
       "      <td>5479.000000</td>\n",
       "      <td>...</td>\n",
       "      <td>5479</td>\n",
       "      <td>5479</td>\n",
       "      <td>5479</td>\n",
       "      <td>4981.000000</td>\n",
       "      <td>5479.000000</td>\n",
       "      <td>5013.000000</td>\n",
       "      <td>5024.000000</td>\n",
       "      <td>5479</td>\n",
       "      <td>5479</td>\n",
       "      <td>5479</td>\n",
       "    </tr>\n",
       "    <tr>\n",
       "      <th>unique</th>\n",
       "      <td>5477</td>\n",
       "      <td>NaN</td>\n",
       "      <td>NaN</td>\n",
       "      <td>NaN</td>\n",
       "      <td>NaN</td>\n",
       "      <td>7</td>\n",
       "      <td>NaN</td>\n",
       "      <td>NaN</td>\n",
       "      <td>NaN</td>\n",
       "      <td>NaN</td>\n",
       "      <td>...</td>\n",
       "      <td>5479</td>\n",
       "      <td>1171</td>\n",
       "      <td>4</td>\n",
       "      <td>NaN</td>\n",
       "      <td>NaN</td>\n",
       "      <td>NaN</td>\n",
       "      <td>NaN</td>\n",
       "      <td>2</td>\n",
       "      <td>13</td>\n",
       "      <td>14</td>\n",
       "    </tr>\n",
       "    <tr>\n",
       "      <th>top</th>\n",
       "      <td>2018-07-19T17:19:00.210Z</td>\n",
       "      <td>NaN</td>\n",
       "      <td>NaN</td>\n",
       "      <td>NaN</td>\n",
       "      <td>NaN</td>\n",
       "      <td>ml</td>\n",
       "      <td>NaN</td>\n",
       "      <td>NaN</td>\n",
       "      <td>NaN</td>\n",
       "      <td>NaN</td>\n",
       "      <td>...</td>\n",
       "      <td>2018-07-20T19:51:44.080Z</td>\n",
       "      <td>4km WSW of Volcano, Hawaii</td>\n",
       "      <td>earthquake</td>\n",
       "      <td>NaN</td>\n",
       "      <td>NaN</td>\n",
       "      <td>NaN</td>\n",
       "      <td>NaN</td>\n",
       "      <td>automatic</td>\n",
       "      <td>hv</td>\n",
       "      <td>hv</td>\n",
       "    </tr>\n",
       "    <tr>\n",
       "      <th>freq</th>\n",
       "      <td>2</td>\n",
       "      <td>NaN</td>\n",
       "      <td>NaN</td>\n",
       "      <td>NaN</td>\n",
       "      <td>NaN</td>\n",
       "      <td>4860</td>\n",
       "      <td>NaN</td>\n",
       "      <td>NaN</td>\n",
       "      <td>NaN</td>\n",
       "      <td>NaN</td>\n",
       "      <td>...</td>\n",
       "      <td>1</td>\n",
       "      <td>688</td>\n",
       "      <td>5439</td>\n",
       "      <td>NaN</td>\n",
       "      <td>NaN</td>\n",
       "      <td>NaN</td>\n",
       "      <td>NaN</td>\n",
       "      <td>4614</td>\n",
       "      <td>4380</td>\n",
       "      <td>4380</td>\n",
       "    </tr>\n",
       "    <tr>\n",
       "      <th>mean</th>\n",
       "      <td>NaN</td>\n",
       "      <td>24.145829</td>\n",
       "      <td>-147.086426</td>\n",
       "      <td>6.558106</td>\n",
       "      <td>2.312119</td>\n",
       "      <td>NaN</td>\n",
       "      <td>20.886154</td>\n",
       "      <td>89.912665</td>\n",
       "      <td>0.108372</td>\n",
       "      <td>0.235240</td>\n",
       "      <td>...</td>\n",
       "      <td>NaN</td>\n",
       "      <td>NaN</td>\n",
       "      <td>NaN</td>\n",
       "      <td>0.645904</td>\n",
       "      <td>0.893382</td>\n",
       "      <td>0.684618</td>\n",
       "      <td>16.473527</td>\n",
       "      <td>NaN</td>\n",
       "      <td>NaN</td>\n",
       "      <td>NaN</td>\n",
       "    </tr>\n",
       "    <tr>\n",
       "      <th>std</th>\n",
       "      <td>NaN</td>\n",
       "      <td>13.046497</td>\n",
       "      <td>33.293635</td>\n",
       "      <td>24.190602</td>\n",
       "      <td>0.638113</td>\n",
       "      <td>NaN</td>\n",
       "      <td>11.010084</td>\n",
       "      <td>59.753048</td>\n",
       "      <td>0.883814</td>\n",
       "      <td>0.168817</td>\n",
       "      <td>...</td>\n",
       "      <td>NaN</td>\n",
       "      <td>NaN</td>\n",
       "      <td>NaN</td>\n",
       "      <td>1.533695</td>\n",
       "      <td>2.973400</td>\n",
       "      <td>0.903529</td>\n",
       "      <td>20.811816</td>\n",
       "      <td>NaN</td>\n",
       "      <td>NaN</td>\n",
       "      <td>NaN</td>\n",
       "    </tr>\n",
       "    <tr>\n",
       "      <th>min</th>\n",
       "      <td>NaN</td>\n",
       "      <td>-61.394800</td>\n",
       "      <td>-179.702900</td>\n",
       "      <td>-3.390000</td>\n",
       "      <td>0.950000</td>\n",
       "      <td>NaN</td>\n",
       "      <td>2.000000</td>\n",
       "      <td>11.000000</td>\n",
       "      <td>0.000140</td>\n",
       "      <td>0.010000</td>\n",
       "      <td>...</td>\n",
       "      <td>NaN</td>\n",
       "      <td>NaN</td>\n",
       "      <td>NaN</td>\n",
       "      <td>0.100000</td>\n",
       "      <td>0.000000</td>\n",
       "      <td>0.000000</td>\n",
       "      <td>1.000000</td>\n",
       "      <td>NaN</td>\n",
       "      <td>NaN</td>\n",
       "      <td>NaN</td>\n",
       "    </tr>\n",
       "    <tr>\n",
       "      <th>25%</th>\n",
       "      <td>NaN</td>\n",
       "      <td>19.401167</td>\n",
       "      <td>-155.281006</td>\n",
       "      <td>0.350000</td>\n",
       "      <td>1.940000</td>\n",
       "      <td>NaN</td>\n",
       "      <td>13.000000</td>\n",
       "      <td>47.750000</td>\n",
       "      <td>0.004684</td>\n",
       "      <td>0.140000</td>\n",
       "      <td>...</td>\n",
       "      <td>NaN</td>\n",
       "      <td>NaN</td>\n",
       "      <td>NaN</td>\n",
       "      <td>0.220000</td>\n",
       "      <td>0.200000</td>\n",
       "      <td>0.240000</td>\n",
       "      <td>9.000000</td>\n",
       "      <td>NaN</td>\n",
       "      <td>NaN</td>\n",
       "      <td>NaN</td>\n",
       "    </tr>\n",
       "    <tr>\n",
       "      <th>50%</th>\n",
       "      <td>NaN</td>\n",
       "      <td>19.412500</td>\n",
       "      <td>-155.271668</td>\n",
       "      <td>0.870000</td>\n",
       "      <td>2.300000</td>\n",
       "      <td>NaN</td>\n",
       "      <td>19.000000</td>\n",
       "      <td>69.000000</td>\n",
       "      <td>0.007603</td>\n",
       "      <td>0.190000</td>\n",
       "      <td>...</td>\n",
       "      <td>NaN</td>\n",
       "      <td>NaN</td>\n",
       "      <td>NaN</td>\n",
       "      <td>0.280000</td>\n",
       "      <td>0.280000</td>\n",
       "      <td>0.330000</td>\n",
       "      <td>13.000000</td>\n",
       "      <td>NaN</td>\n",
       "      <td>NaN</td>\n",
       "      <td>NaN</td>\n",
       "    </tr>\n",
       "    <tr>\n",
       "      <th>75%</th>\n",
       "      <td>NaN</td>\n",
       "      <td>19.427000</td>\n",
       "      <td>-155.258667</td>\n",
       "      <td>1.820000</td>\n",
       "      <td>2.650000</td>\n",
       "      <td>NaN</td>\n",
       "      <td>26.000000</td>\n",
       "      <td>114.000000</td>\n",
       "      <td>0.011615</td>\n",
       "      <td>0.270000</td>\n",
       "      <td>...</td>\n",
       "      <td>NaN</td>\n",
       "      <td>NaN</td>\n",
       "      <td>NaN</td>\n",
       "      <td>0.440000</td>\n",
       "      <td>0.480000</td>\n",
       "      <td>0.440000</td>\n",
       "      <td>19.000000</td>\n",
       "      <td>NaN</td>\n",
       "      <td>NaN</td>\n",
       "      <td>NaN</td>\n",
       "    </tr>\n",
       "    <tr>\n",
       "      <th>max</th>\n",
       "      <td>NaN</td>\n",
       "      <td>86.878700</td>\n",
       "      <td>179.827100</td>\n",
       "      <td>587.800000</td>\n",
       "      <td>6.000000</td>\n",
       "      <td>NaN</td>\n",
       "      <td>163.000000</td>\n",
       "      <td>355.000000</td>\n",
       "      <td>28.613000</td>\n",
       "      <td>1.440000</td>\n",
       "      <td>...</td>\n",
       "      <td>NaN</td>\n",
       "      <td>NaN</td>\n",
       "      <td>NaN</td>\n",
       "      <td>28.530000</td>\n",
       "      <td>31.610000</td>\n",
       "      <td>6.080000</td>\n",
       "      <td>580.000000</td>\n",
       "      <td>NaN</td>\n",
       "      <td>NaN</td>\n",
       "      <td>NaN</td>\n",
       "    </tr>\n",
       "  </tbody>\n",
       "</table>\n",
       "<p>11 rows × 22 columns</p>\n",
       "</div>"
      ],
      "text/plain": [
       "                            time     latitude    longitude        depth  \\\n",
       "count                       5479  5479.000000  5479.000000  5479.000000   \n",
       "unique                      5477          NaN          NaN          NaN   \n",
       "top     2018-07-19T17:19:00.210Z          NaN          NaN          NaN   \n",
       "freq                           2          NaN          NaN          NaN   \n",
       "mean                         NaN    24.145829  -147.086426     6.558106   \n",
       "std                          NaN    13.046497    33.293635    24.190602   \n",
       "min                          NaN   -61.394800  -179.702900    -3.390000   \n",
       "25%                          NaN    19.401167  -155.281006     0.350000   \n",
       "50%                          NaN    19.412500  -155.271668     0.870000   \n",
       "75%                          NaN    19.427000  -155.258667     1.820000   \n",
       "max                          NaN    86.878700   179.827100   587.800000   \n",
       "\n",
       "                mag magType          nst          gap         dmin  \\\n",
       "count   5479.000000    5479  4875.000000  5028.000000  5027.000000   \n",
       "unique          NaN       7          NaN          NaN          NaN   \n",
       "top             NaN      ml          NaN          NaN          NaN   \n",
       "freq            NaN    4860          NaN          NaN          NaN   \n",
       "mean       2.312119     NaN    20.886154    89.912665     0.108372   \n",
       "std        0.638113     NaN    11.010084    59.753048     0.883814   \n",
       "min        0.950000     NaN     2.000000    11.000000     0.000140   \n",
       "25%        1.940000     NaN    13.000000    47.750000     0.004684   \n",
       "50%        2.300000     NaN    19.000000    69.000000     0.007603   \n",
       "75%        2.650000     NaN    26.000000   114.000000     0.011615   \n",
       "max        6.000000     NaN   163.000000   355.000000    28.613000   \n",
       "\n",
       "                rms    ...                      updated  \\\n",
       "count   5479.000000    ...                         5479   \n",
       "unique          NaN    ...                         5479   \n",
       "top             NaN    ...     2018-07-20T19:51:44.080Z   \n",
       "freq            NaN    ...                            1   \n",
       "mean       0.235240    ...                          NaN   \n",
       "std        0.168817    ...                          NaN   \n",
       "min        0.010000    ...                          NaN   \n",
       "25%        0.140000    ...                          NaN   \n",
       "50%        0.190000    ...                          NaN   \n",
       "75%        0.270000    ...                          NaN   \n",
       "max        1.440000    ...                          NaN   \n",
       "\n",
       "                             place        type horizontalError   depthError  \\\n",
       "count                         5479        5479     4981.000000  5479.000000   \n",
       "unique                        1171           4             NaN          NaN   \n",
       "top     4km WSW of Volcano, Hawaii  earthquake             NaN          NaN   \n",
       "freq                           688        5439             NaN          NaN   \n",
       "mean                           NaN         NaN        0.645904     0.893382   \n",
       "std                            NaN         NaN        1.533695     2.973400   \n",
       "min                            NaN         NaN        0.100000     0.000000   \n",
       "25%                            NaN         NaN        0.220000     0.200000   \n",
       "50%                            NaN         NaN        0.280000     0.280000   \n",
       "75%                            NaN         NaN        0.440000     0.480000   \n",
       "max                            NaN         NaN       28.530000    31.610000   \n",
       "\n",
       "           magError       magNst     status  locationSource magSource  \n",
       "count   5013.000000  5024.000000       5479            5479      5479  \n",
       "unique          NaN          NaN          2              13        14  \n",
       "top             NaN          NaN  automatic              hv        hv  \n",
       "freq            NaN          NaN       4614            4380      4380  \n",
       "mean       0.684618    16.473527        NaN             NaN       NaN  \n",
       "std        0.903529    20.811816        NaN             NaN       NaN  \n",
       "min        0.000000     1.000000        NaN             NaN       NaN  \n",
       "25%        0.240000     9.000000        NaN             NaN       NaN  \n",
       "50%        0.330000    13.000000        NaN             NaN       NaN  \n",
       "75%        0.440000    19.000000        NaN             NaN       NaN  \n",
       "max        6.080000   580.000000        NaN             NaN       NaN  \n",
       "\n",
       "[11 rows x 22 columns]"
      ]
     },
     "execution_count": 3,
     "metadata": {},
     "output_type": "execute_result"
    }
   ],
   "source": [
    "df.describe(include='all')"
   ]
  },
  {
   "cell_type": "markdown",
   "metadata": {},
   "source": [
    "#### lets inspect first 5 rows of dataset"
   ]
  },
  {
   "cell_type": "code",
   "execution_count": 4,
   "metadata": {},
   "outputs": [
    {
     "data": {
      "text/html": [
       "<div>\n",
       "<style scoped>\n",
       "    .dataframe tbody tr th:only-of-type {\n",
       "        vertical-align: middle;\n",
       "    }\n",
       "\n",
       "    .dataframe tbody tr th {\n",
       "        vertical-align: top;\n",
       "    }\n",
       "\n",
       "    .dataframe thead th {\n",
       "        text-align: right;\n",
       "    }\n",
       "</style>\n",
       "<table border=\"1\" class=\"dataframe\">\n",
       "  <thead>\n",
       "    <tr style=\"text-align: right;\">\n",
       "      <th></th>\n",
       "      <th>time</th>\n",
       "      <th>latitude</th>\n",
       "      <th>longitude</th>\n",
       "      <th>depth</th>\n",
       "      <th>mag</th>\n",
       "      <th>magType</th>\n",
       "      <th>nst</th>\n",
       "      <th>gap</th>\n",
       "      <th>dmin</th>\n",
       "      <th>rms</th>\n",
       "      <th>...</th>\n",
       "      <th>updated</th>\n",
       "      <th>place</th>\n",
       "      <th>type</th>\n",
       "      <th>horizontalError</th>\n",
       "      <th>depthError</th>\n",
       "      <th>magError</th>\n",
       "      <th>magNst</th>\n",
       "      <th>status</th>\n",
       "      <th>locationSource</th>\n",
       "      <th>magSource</th>\n",
       "    </tr>\n",
       "  </thead>\n",
       "  <tbody>\n",
       "    <tr>\n",
       "      <th>0</th>\n",
       "      <td>2018-07-22T20:39:06.910Z</td>\n",
       "      <td>19.390833</td>\n",
       "      <td>-155.264328</td>\n",
       "      <td>-0.71</td>\n",
       "      <td>2.37</td>\n",
       "      <td>md</td>\n",
       "      <td>16.0</td>\n",
       "      <td>103.0</td>\n",
       "      <td>0.007544</td>\n",
       "      <td>0.34</td>\n",
       "      <td>...</td>\n",
       "      <td>2018-07-22T20:42:14.430Z</td>\n",
       "      <td>5km SSW of Volcano, Hawaii</td>\n",
       "      <td>earthquake</td>\n",
       "      <td>0.34</td>\n",
       "      <td>0.38</td>\n",
       "      <td>0.39</td>\n",
       "      <td>7.0</td>\n",
       "      <td>automatic</td>\n",
       "      <td>hv</td>\n",
       "      <td>hv</td>\n",
       "    </tr>\n",
       "    <tr>\n",
       "      <th>1</th>\n",
       "      <td>2018-07-22T20:38:56.460Z</td>\n",
       "      <td>19.424166</td>\n",
       "      <td>-155.255005</td>\n",
       "      <td>0.37</td>\n",
       "      <td>2.43</td>\n",
       "      <td>ml</td>\n",
       "      <td>13.0</td>\n",
       "      <td>146.0</td>\n",
       "      <td>0.005713</td>\n",
       "      <td>0.10</td>\n",
       "      <td>...</td>\n",
       "      <td>2018-07-22T20:44:36.870Z</td>\n",
       "      <td>1km WSW of Volcano, Hawaii</td>\n",
       "      <td>earthquake</td>\n",
       "      <td>0.22</td>\n",
       "      <td>0.15</td>\n",
       "      <td>0.42</td>\n",
       "      <td>19.0</td>\n",
       "      <td>automatic</td>\n",
       "      <td>hv</td>\n",
       "      <td>hv</td>\n",
       "    </tr>\n",
       "    <tr>\n",
       "      <th>2</th>\n",
       "      <td>2018-07-22T20:38:48.240Z</td>\n",
       "      <td>19.398666</td>\n",
       "      <td>-155.290161</td>\n",
       "      <td>0.79</td>\n",
       "      <td>2.40</td>\n",
       "      <td>ml</td>\n",
       "      <td>11.0</td>\n",
       "      <td>76.0</td>\n",
       "      <td>0.012210</td>\n",
       "      <td>0.17</td>\n",
       "      <td>...</td>\n",
       "      <td>2018-07-22T20:44:27.480Z</td>\n",
       "      <td>6km WSW of Volcano, Hawaii</td>\n",
       "      <td>earthquake</td>\n",
       "      <td>0.51</td>\n",
       "      <td>0.43</td>\n",
       "      <td>0.42</td>\n",
       "      <td>22.0</td>\n",
       "      <td>automatic</td>\n",
       "      <td>hv</td>\n",
       "      <td>hv</td>\n",
       "    </tr>\n",
       "    <tr>\n",
       "      <th>3</th>\n",
       "      <td>2018-07-22T20:37:56.800Z</td>\n",
       "      <td>46.848167</td>\n",
       "      <td>-121.755837</td>\n",
       "      <td>0.49</td>\n",
       "      <td>1.33</td>\n",
       "      <td>md</td>\n",
       "      <td>8.0</td>\n",
       "      <td>93.0</td>\n",
       "      <td>0.020080</td>\n",
       "      <td>0.03</td>\n",
       "      <td>...</td>\n",
       "      <td>2018-07-22T20:39:55.900Z</td>\n",
       "      <td>27km NNW of Packwood, Washington</td>\n",
       "      <td>earthquake</td>\n",
       "      <td>0.39</td>\n",
       "      <td>1.05</td>\n",
       "      <td>0.15</td>\n",
       "      <td>5.0</td>\n",
       "      <td>automatic</td>\n",
       "      <td>uw</td>\n",
       "      <td>uw</td>\n",
       "    </tr>\n",
       "    <tr>\n",
       "      <th>4</th>\n",
       "      <td>2018-07-22T20:37:14.450Z</td>\n",
       "      <td>19.411501</td>\n",
       "      <td>-155.274002</td>\n",
       "      <td>1.05</td>\n",
       "      <td>2.13</td>\n",
       "      <td>ml</td>\n",
       "      <td>31.0</td>\n",
       "      <td>40.0</td>\n",
       "      <td>0.011330</td>\n",
       "      <td>0.27</td>\n",
       "      <td>...</td>\n",
       "      <td>2018-07-22T20:42:55.000Z</td>\n",
       "      <td>4km WSW of Volcano, Hawaii</td>\n",
       "      <td>earthquake</td>\n",
       "      <td>0.26</td>\n",
       "      <td>0.20</td>\n",
       "      <td>0.33</td>\n",
       "      <td>15.0</td>\n",
       "      <td>automatic</td>\n",
       "      <td>hv</td>\n",
       "      <td>hv</td>\n",
       "    </tr>\n",
       "  </tbody>\n",
       "</table>\n",
       "<p>5 rows × 22 columns</p>\n",
       "</div>"
      ],
      "text/plain": [
       "                       time   latitude   longitude  depth   mag magType   nst  \\\n",
       "0  2018-07-22T20:39:06.910Z  19.390833 -155.264328  -0.71  2.37      md  16.0   \n",
       "1  2018-07-22T20:38:56.460Z  19.424166 -155.255005   0.37  2.43      ml  13.0   \n",
       "2  2018-07-22T20:38:48.240Z  19.398666 -155.290161   0.79  2.40      ml  11.0   \n",
       "3  2018-07-22T20:37:56.800Z  46.848167 -121.755837   0.49  1.33      md   8.0   \n",
       "4  2018-07-22T20:37:14.450Z  19.411501 -155.274002   1.05  2.13      ml  31.0   \n",
       "\n",
       "     gap      dmin   rms    ...                      updated  \\\n",
       "0  103.0  0.007544  0.34    ...     2018-07-22T20:42:14.430Z   \n",
       "1  146.0  0.005713  0.10    ...     2018-07-22T20:44:36.870Z   \n",
       "2   76.0  0.012210  0.17    ...     2018-07-22T20:44:27.480Z   \n",
       "3   93.0  0.020080  0.03    ...     2018-07-22T20:39:55.900Z   \n",
       "4   40.0  0.011330  0.27    ...     2018-07-22T20:42:55.000Z   \n",
       "\n",
       "                              place        type horizontalError depthError  \\\n",
       "0        5km SSW of Volcano, Hawaii  earthquake            0.34       0.38   \n",
       "1        1km WSW of Volcano, Hawaii  earthquake            0.22       0.15   \n",
       "2        6km WSW of Volcano, Hawaii  earthquake            0.51       0.43   \n",
       "3  27km NNW of Packwood, Washington  earthquake            0.39       1.05   \n",
       "4        4km WSW of Volcano, Hawaii  earthquake            0.26       0.20   \n",
       "\n",
       "   magError  magNst     status  locationSource magSource  \n",
       "0      0.39     7.0  automatic              hv        hv  \n",
       "1      0.42    19.0  automatic              hv        hv  \n",
       "2      0.42    22.0  automatic              hv        hv  \n",
       "3      0.15     5.0  automatic              uw        uw  \n",
       "4      0.33    15.0  automatic              hv        hv  \n",
       "\n",
       "[5 rows x 22 columns]"
      ]
     },
     "execution_count": 4,
     "metadata": {},
     "output_type": "execute_result"
    }
   ],
   "source": [
    "df.head()"
   ]
  },
  {
   "cell_type": "markdown",
   "metadata": {},
   "source": [
    "#### Now we will inspect the datatype of all 22 Columns"
   ]
  },
  {
   "cell_type": "code",
   "execution_count": 5,
   "metadata": {},
   "outputs": [
    {
     "data": {
      "text/plain": [
       "time                object\n",
       "latitude           float64\n",
       "longitude          float64\n",
       "depth              float64\n",
       "mag                float64\n",
       "magType             object\n",
       "nst                float64\n",
       "gap                float64\n",
       "dmin               float64\n",
       "rms                float64\n",
       "net                 object\n",
       "id                  object\n",
       "updated             object\n",
       "place               object\n",
       "type                object\n",
       "horizontalError    float64\n",
       "depthError         float64\n",
       "magError           float64\n",
       "magNst             float64\n",
       "status              object\n",
       "locationSource      object\n",
       "magSource           object\n",
       "dtype: object"
      ]
     },
     "execution_count": 5,
     "metadata": {},
     "output_type": "execute_result"
    }
   ],
   "source": [
    "df.dtypes"
   ]
  },
  {
   "cell_type": "markdown",
   "metadata": {},
   "source": [
    "#### We can see that data is consistent\n",
    "\n",
    "#### Lets check for null values"
   ]
  },
  {
   "cell_type": "code",
   "execution_count": 6,
   "metadata": {},
   "outputs": [
    {
     "data": {
      "text/plain": [
       "2926"
      ]
     },
     "execution_count": 6,
     "metadata": {},
     "output_type": "execute_result"
    }
   ],
   "source": [
    "df.isnull().sum().sum()"
   ]
  },
  {
   "cell_type": "markdown",
   "metadata": {},
   "source": [
    "#### From the above result we can observe that we have 2926 null value. And we have to handle these values to get accurate results\n",
    "\n",
    "Missing values need to be handled because,\n",
    "1. They reduce the quality for any of our performance metric \n",
    "2. It can also lead to wrong prediction or classification\n",
    "3. They cause a high bias for any given model being used\n",
    "\n",
    "There are three popular methods to handle missing data:\n",
    "1. Drop missing values\n",
    "2. Fill missing values with test statistic\n",
    "3. Predict missing values with a machine algorithms\n",
    "\n",
    "#### Now lets find total number of missing values in each columns. Also I will caluclate the percentage of missing values in each columns."
   ]
  },
  {
   "cell_type": "code",
   "execution_count": 7,
   "metadata": {},
   "outputs": [
    {
     "data": {
      "text/html": [
       "<div>\n",
       "<style scoped>\n",
       "    .dataframe tbody tr th:only-of-type {\n",
       "        vertical-align: middle;\n",
       "    }\n",
       "\n",
       "    .dataframe tbody tr th {\n",
       "        vertical-align: top;\n",
       "    }\n",
       "\n",
       "    .dataframe thead th {\n",
       "        text-align: right;\n",
       "    }\n",
       "</style>\n",
       "<table border=\"1\" class=\"dataframe\">\n",
       "  <thead>\n",
       "    <tr style=\"text-align: right;\">\n",
       "      <th></th>\n",
       "      <th>total_missing</th>\n",
       "      <th>percent</th>\n",
       "    </tr>\n",
       "  </thead>\n",
       "  <tbody>\n",
       "    <tr>\n",
       "      <th>nst</th>\n",
       "      <td>604</td>\n",
       "      <td>11.02</td>\n",
       "    </tr>\n",
       "    <tr>\n",
       "      <th>horizontalError</th>\n",
       "      <td>498</td>\n",
       "      <td>9.09</td>\n",
       "    </tr>\n",
       "    <tr>\n",
       "      <th>magError</th>\n",
       "      <td>466</td>\n",
       "      <td>8.51</td>\n",
       "    </tr>\n",
       "    <tr>\n",
       "      <th>magNst</th>\n",
       "      <td>455</td>\n",
       "      <td>8.30</td>\n",
       "    </tr>\n",
       "    <tr>\n",
       "      <th>dmin</th>\n",
       "      <td>452</td>\n",
       "      <td>8.25</td>\n",
       "    </tr>\n",
       "    <tr>\n",
       "      <th>gap</th>\n",
       "      <td>451</td>\n",
       "      <td>8.23</td>\n",
       "    </tr>\n",
       "  </tbody>\n",
       "</table>\n",
       "</div>"
      ],
      "text/plain": [
       "                 total_missing  percent\n",
       "nst                        604    11.02\n",
       "horizontalError            498     9.09\n",
       "magError                   466     8.51\n",
       "magNst                     455     8.30\n",
       "dmin                       452     8.25\n",
       "gap                        451     8.23"
      ]
     },
     "execution_count": 7,
     "metadata": {},
     "output_type": "execute_result"
    }
   ],
   "source": [
    "total = df.isnull().sum()[df.isnull().sum() != 0].sort_values(ascending = False)\n",
    "percent = pd.Series(round(total/len(df)*100,2))\n",
    "pd.concat([total, percent], axis=1, keys=['total_missing', 'percent'])"
   ]
  },
  {
   "cell_type": "markdown",
   "metadata": {},
   "source": [
    "#### From the above results we can infer that only columns with numeric values , data is missing. In this scenario, we can replace the null values with mean of respective columns. In another where we have missing categorical values, we have to replace with mode of the column.\n",
    "\n",
    "#### lets fill mean in place of NaN"
   ]
  },
  {
   "cell_type": "code",
   "execution_count": 8,
   "metadata": {},
   "outputs": [
    {
     "data": {
      "text/plain": [
       "0"
      ]
     },
     "execution_count": 8,
     "metadata": {},
     "output_type": "execute_result"
    }
   ],
   "source": [
    "df.fillna(df.mean(), inplace=True)\n",
    "df.isnull().sum().sum()"
   ]
  },
  {
   "cell_type": "markdown",
   "metadata": {},
   "source": [
    "#### We can observe from above result there are no more null values. Hence null values are handled successfully!\n",
    "\n",
    "#### Lets remove unwanted columns from dataFrame which we know will not impact the magnitude.\n"
   ]
  },
  {
   "cell_type": "code",
   "execution_count": 9,
   "metadata": {},
   "outputs": [
    {
     "data": {
      "text/html": [
       "<div>\n",
       "<style scoped>\n",
       "    .dataframe tbody tr th:only-of-type {\n",
       "        vertical-align: middle;\n",
       "    }\n",
       "\n",
       "    .dataframe tbody tr th {\n",
       "        vertical-align: top;\n",
       "    }\n",
       "\n",
       "    .dataframe thead th {\n",
       "        text-align: right;\n",
       "    }\n",
       "</style>\n",
       "<table border=\"1\" class=\"dataframe\">\n",
       "  <thead>\n",
       "    <tr style=\"text-align: right;\">\n",
       "      <th></th>\n",
       "      <th>latitude</th>\n",
       "      <th>longitude</th>\n",
       "      <th>depth</th>\n",
       "      <th>mag</th>\n",
       "      <th>magType</th>\n",
       "      <th>nst</th>\n",
       "      <th>gap</th>\n",
       "      <th>dmin</th>\n",
       "      <th>rms</th>\n",
       "      <th>type</th>\n",
       "      <th>horizontalError</th>\n",
       "      <th>depthError</th>\n",
       "      <th>magError</th>\n",
       "      <th>magNst</th>\n",
       "      <th>status</th>\n",
       "    </tr>\n",
       "  </thead>\n",
       "  <tbody>\n",
       "    <tr>\n",
       "      <th>0</th>\n",
       "      <td>19.390833</td>\n",
       "      <td>-155.264328</td>\n",
       "      <td>-0.71</td>\n",
       "      <td>2.37</td>\n",
       "      <td>md</td>\n",
       "      <td>16.0</td>\n",
       "      <td>103.0</td>\n",
       "      <td>0.007544</td>\n",
       "      <td>0.34</td>\n",
       "      <td>earthquake</td>\n",
       "      <td>0.34</td>\n",
       "      <td>0.38</td>\n",
       "      <td>0.39</td>\n",
       "      <td>7.0</td>\n",
       "      <td>automatic</td>\n",
       "    </tr>\n",
       "    <tr>\n",
       "      <th>1</th>\n",
       "      <td>19.424166</td>\n",
       "      <td>-155.255005</td>\n",
       "      <td>0.37</td>\n",
       "      <td>2.43</td>\n",
       "      <td>ml</td>\n",
       "      <td>13.0</td>\n",
       "      <td>146.0</td>\n",
       "      <td>0.005713</td>\n",
       "      <td>0.10</td>\n",
       "      <td>earthquake</td>\n",
       "      <td>0.22</td>\n",
       "      <td>0.15</td>\n",
       "      <td>0.42</td>\n",
       "      <td>19.0</td>\n",
       "      <td>automatic</td>\n",
       "    </tr>\n",
       "    <tr>\n",
       "      <th>2</th>\n",
       "      <td>19.398666</td>\n",
       "      <td>-155.290161</td>\n",
       "      <td>0.79</td>\n",
       "      <td>2.40</td>\n",
       "      <td>ml</td>\n",
       "      <td>11.0</td>\n",
       "      <td>76.0</td>\n",
       "      <td>0.012210</td>\n",
       "      <td>0.17</td>\n",
       "      <td>earthquake</td>\n",
       "      <td>0.51</td>\n",
       "      <td>0.43</td>\n",
       "      <td>0.42</td>\n",
       "      <td>22.0</td>\n",
       "      <td>automatic</td>\n",
       "    </tr>\n",
       "    <tr>\n",
       "      <th>3</th>\n",
       "      <td>46.848167</td>\n",
       "      <td>-121.755837</td>\n",
       "      <td>0.49</td>\n",
       "      <td>1.33</td>\n",
       "      <td>md</td>\n",
       "      <td>8.0</td>\n",
       "      <td>93.0</td>\n",
       "      <td>0.020080</td>\n",
       "      <td>0.03</td>\n",
       "      <td>earthquake</td>\n",
       "      <td>0.39</td>\n",
       "      <td>1.05</td>\n",
       "      <td>0.15</td>\n",
       "      <td>5.0</td>\n",
       "      <td>automatic</td>\n",
       "    </tr>\n",
       "    <tr>\n",
       "      <th>4</th>\n",
       "      <td>19.411501</td>\n",
       "      <td>-155.274002</td>\n",
       "      <td>1.05</td>\n",
       "      <td>2.13</td>\n",
       "      <td>ml</td>\n",
       "      <td>31.0</td>\n",
       "      <td>40.0</td>\n",
       "      <td>0.011330</td>\n",
       "      <td>0.27</td>\n",
       "      <td>earthquake</td>\n",
       "      <td>0.26</td>\n",
       "      <td>0.20</td>\n",
       "      <td>0.33</td>\n",
       "      <td>15.0</td>\n",
       "      <td>automatic</td>\n",
       "    </tr>\n",
       "  </tbody>\n",
       "</table>\n",
       "</div>"
      ],
      "text/plain": [
       "    latitude   longitude  depth   mag magType   nst    gap      dmin   rms  \\\n",
       "0  19.390833 -155.264328  -0.71  2.37      md  16.0  103.0  0.007544  0.34   \n",
       "1  19.424166 -155.255005   0.37  2.43      ml  13.0  146.0  0.005713  0.10   \n",
       "2  19.398666 -155.290161   0.79  2.40      ml  11.0   76.0  0.012210  0.17   \n",
       "3  46.848167 -121.755837   0.49  1.33      md   8.0   93.0  0.020080  0.03   \n",
       "4  19.411501 -155.274002   1.05  2.13      ml  31.0   40.0  0.011330  0.27   \n",
       "\n",
       "         type  horizontalError  depthError  magError  magNst     status  \n",
       "0  earthquake             0.34        0.38      0.39     7.0  automatic  \n",
       "1  earthquake             0.22        0.15      0.42    19.0  automatic  \n",
       "2  earthquake             0.51        0.43      0.42    22.0  automatic  \n",
       "3  earthquake             0.39        1.05      0.15     5.0  automatic  \n",
       "4  earthquake             0.26        0.20      0.33    15.0  automatic  "
      ]
     },
     "execution_count": 9,
     "metadata": {},
     "output_type": "execute_result"
    }
   ],
   "source": [
    "df= df.drop(['id','updated','place','net','time','magSource','locationSource'], axis =1)\n",
    "df.head()"
   ]
  },
  {
   "cell_type": "markdown",
   "metadata": {},
   "source": [
    "## 2. Target Variable = Mag\n",
    "\n",
    "#### Now lets study more about our target variable ,magnitude\n",
    "Lets stary by plotting box plot"
   ]
  },
  {
   "cell_type": "code",
   "execution_count": 10,
   "metadata": {},
   "outputs": [
    {
     "data": {
      "image/png": "[encoded data removed]",
      "text/plain": [
       "<Figure size 864x288 with 1 Axes>"
      ]
     },
     "metadata": {
      "needs_background": "light"
     },
     "output_type": "display_data"
    }
   ],
   "source": [
    "fig, ax = plt.subplots(figsize=(12,4))\n",
    "sns.boxplot(x = 'mag', data = df, orient = 'h', width = 0.8, \n",
    "                 fliersize = 3, showmeans=True, ax = ax)\n",
    "plt.show()"
   ]
  },
  {
   "cell_type": "markdown",
   "metadata": {},
   "source": [
    "There are lot of outliers above 3.7.\n",
    "The range of value are between 1.8 to 2.6 as defined by interquartile range.\n",
    "The distribution is even.\n",
    "\n",
    "## 3. Data Visualisation \n",
    "\n",
    "### 3.1 Continious Variables\n",
    "\n",
    "#### Let us visualise univariate pattern between some important feature and our target variable to check a strong linear pattern exists."
   ]
  },
  {
   "cell_type": "code",
   "execution_count": 11,
   "metadata": {
    "scrolled": false
   },
   "outputs": [
    {
     "data": {
      "image/png": "[encoded data removed]",
      "text/plain": [
       "<Figure size 1440x1440 with 9 Axes>"
      ]
     },
     "metadata": {
      "needs_background": "light"
     },
     "output_type": "display_data"
    }
   ],
   "source": [
    "df_1= df[['latitude','longitude','depth','mag','nst','gap','dmin','rms','horizontalError','magNst']]\n",
    "fig, axes = plt.subplots(nrows=3, ncols=3, figsize=(20,20))\n",
    "plt.subplots_adjust(hspace=0.4)\n",
    "\n",
    "corr = pd.Series()\n",
    "for col in df_1.columns.values[:]:\n",
    "    if ((col!='mag')):\n",
    "        corr[col] = df_1['mag'].corr(df_1[col])\n",
    "\n",
    "\n",
    "for i in range(3):\n",
    "    for j in range(3):\n",
    "        sns.regplot(x=corr.index.values[i*3+j], y='mag', data=df_1,\n",
    "                   ax=axes[i,j], fit_reg=False, marker='.')\n",
    "        title = 'correlation='+str(corr[i*3+j])\n",
    "        axes[i,j].set_title(title)\n",
    "axes[1,2].set_xlim(0,102)\n",
    "plt.show()"
   ]
  },
  {
   "cell_type": "markdown",
   "metadata": {},
   "source": [
    "From the regplots, we seem to get the linear distribution of the data points, for example with mag against rms and gap . Thus in the latter analysis, we will implement some linear models\n",
    "\n",
    "#### Let us visualise correlation amongst variables"
   ]
  },
  {
   "cell_type": "code",
   "execution_count": 12,
   "metadata": {
    "scrolled": true
   },
   "outputs": [
    {
     "data": {
      "image/png": "[encoded data removed]",
      "text/plain": [
       "<Figure size 1152x864 with 2 Axes>"
      ]
     },
     "metadata": {
      "needs_background": "light"
     },
     "output_type": "display_data"
    }
   ],
   "source": [
    "plt.figure(figsize=(16,12))\n",
    "sns.heatmap(data=df.iloc[:,:].corr(),annot=True,fmt='.2f',cmap='coolwarm')\n",
    "plt.show()"
   ]
  },
  {
   "cell_type": "markdown",
   "metadata": {},
   "source": [
    "From the above matrix, we see that there is corrlation bewtween 'mag' and 'magNst','horizontalError','dmin'.\n",
    "\n",
    "### 3.2 Categorical variables\n",
    "\n",
    "Now we will inspect distribution of categorical values with target."
   ]
  },
  {
   "cell_type": "code",
   "execution_count": 13,
   "metadata": {},
   "outputs": [
    {
     "data": {
      "image/png": "[encoded data removed]",
      "text/plain": [
       "<Figure size 864x360 with 1 Axes>"
      ]
     },
     "metadata": {
      "needs_background": "light"
     },
     "output_type": "display_data"
    },
    {
     "data": {
      "image/png": "[encoded data removed]",
      "text/plain": [
       "<Figure size 864x360 with 1 Axes>"
      ]
     },
     "metadata": {
      "needs_background": "light"
     },
     "output_type": "display_data"
    },
    {
     "data": {
      "image/png": "[encoded data removed]",
      "text/plain": [
       "<Figure size 864x360 with 1 Axes>"
      ]
     },
     "metadata": {
      "needs_background": "light"
     },
     "output_type": "display_data"
    }
   ],
   "source": [
    "plt.figure(figsize=(12,5))\n",
    "sns.boxplot(y='magType', x='mag', data=df, orient='h', showmeans=True, fliersize = 3)\n",
    "plt.show()\n",
    "plt.figure(figsize=(12,5))\n",
    "sns.boxplot(y='type', x='mag', data=df, orient='h', showmeans=True, fliersize = 3)\n",
    "plt.show()\n",
    "plt.figure(figsize=(12,5))\n",
    "sns.boxplot(y='status', x='mag', data=df, orient='h', showmeans=True, fliersize = 3)\n",
    "plt.show()\n"
   ]
  },
  {
   "cell_type": "markdown",
   "metadata": {},
   "source": [
    "All plots seem to be linearly related to magnitude.\n",
    "As we can observe that there are may categories for magType"
   ]
  },
  {
   "cell_type": "code",
   "execution_count": 14,
   "metadata": {},
   "outputs": [
    {
     "data": {
      "text/plain": [
       "ml       4860\n",
       "md        486\n",
       "mb         91\n",
       "mb_lg      20\n",
       "mww        17\n",
       "mw          4\n",
       "mwr         1\n",
       "Name: magType, dtype: int64"
      ]
     },
     "execution_count": 14,
     "metadata": {},
     "output_type": "execute_result"
    }
   ],
   "source": [
    "df['magType'].value_counts()"
   ]
  },
  {
   "cell_type": "markdown",
   "metadata": {},
   "source": [
    "We can group the values in magType which are not many into one category called  'mt3'"
   ]
  },
  {
   "cell_type": "code",
   "execution_count": 15,
   "metadata": {},
   "outputs": [],
   "source": [
    "df[\"magType\"]= df[\"magType\"].str.replace(\"mb\", \"mt3\", case = False)\n",
    "df[\"magType\"]= df[\"magType\"].str.replace(\"mt3_lg\", \"mt3\", case = False)\n",
    "df[\"magType\"]= df[\"magType\"].str.replace(\"mww\", \"mt3\", case = False)\n",
    "df[\"magType\"]= df[\"magType\"].str.replace(\"mw\", \"mt3\", case = False)\n",
    "df[\"magType\"]= df[\"magType\"].str.replace(\"mt3r\", \"mt3\", case = False)\n"
   ]
  },
  {
   "cell_type": "code",
   "execution_count": 16,
   "metadata": {},
   "outputs": [
    {
     "data": {
      "text/plain": [
       "ml     4860\n",
       "md      486\n",
       "mt3     133\n",
       "Name: magType, dtype: int64"
      ]
     },
     "execution_count": 16,
     "metadata": {},
     "output_type": "execute_result"
    }
   ],
   "source": [
    "df['magType'].value_counts()"
   ]
  },
  {
   "cell_type": "markdown",
   "metadata": {},
   "source": [
    "We have grouped somevales for the ease of understanding.\n",
    "\n",
    "All the following assumptions for linear model have met: \n",
    "1. Linear relationship\n",
    "2. Multivariate normality\n",
    "3. No or little multicollinearity\n",
    "4. Homoscedasticity"
   ]
  },
  {
   "cell_type": "markdown",
   "metadata": {},
   "source": [
    "## 4. Linear Regression\n",
    "\n",
    "#### let us attempt to model the relationship between two or more variables by fitting a linear equation to observed data\n",
    "\n",
    "### 4.1 Simple Linear Regression\n",
    "\n",
    "#### lets model linear regression by taking only 1 independent variable which has highest correlation with magnitude."
   ]
  },
  {
   "cell_type": "code",
   "execution_count": 17,
   "metadata": {},
   "outputs": [
    {
     "data": {
      "text/plain": [
       "LinearRegression(copy_X=True, fit_intercept=True, n_jobs=None,\n",
       "         normalize=False)"
      ]
     },
     "execution_count": 17,
     "metadata": {},
     "output_type": "execute_result"
    }
   ],
   "source": [
    "#choosing X:independent variable and y:target/dependent variable\n",
    "from sklearn import linear_model\n",
    "from sklearn.model_selection import cross_val_score\n",
    "import statsmodels.api as sm\n",
    "X = df['magNst']\n",
    "y = df['mag']\n",
    "# splitting training and testing data set\n",
    "X_train, X_test, Y_train, Y_test = train_test_split(X, y, test_size =0.2, random_state = 0)\n",
    "# fitting dataset to linear model\n",
    "reg= linear_model.LinearRegression()\n",
    "X_train = np.array(X, dtype=pd.Series).reshape(-1,1)\n",
    "y_train = np.array(y, dtype=pd.Series)\n",
    "reg.fit(X_train, y_train)"
   ]
  },
  {
   "cell_type": "code",
   "execution_count": 18,
   "metadata": {},
   "outputs": [],
   "source": [
    "#predicting target using modelX_train = np.array(X, dtype=pd.Series).reshape(-1,1)\n",
    "X_test = np.array(X, dtype=pd.Series).reshape(-1,1)\n",
    "y_test = np.array(y, dtype=pd.Series)\n",
    "y_pred = reg.predict(X_test)"
   ]
  },
  {
   "cell_type": "code",
   "execution_count": 19,
   "metadata": {},
   "outputs": [
    {
     "data": {
      "text/plain": [
       "0.16579185202210786"
      ]
     },
     "execution_count": 19,
     "metadata": {},
     "output_type": "execute_result"
    }
   ],
   "source": [
    "#Accuracy using K-fold\n",
    "accuracy = cross_val_score(estimator = reg, X = X_test, y = y_test, cv = 5)\n",
    "accuracy.mean()"
   ]
  },
  {
   "cell_type": "code",
   "execution_count": 20,
   "metadata": {},
   "outputs": [
    {
     "data": {
      "text/plain": [
       "<matplotlib.legend.Legend at 0x24cc17f7c18>"
      ]
     },
     "execution_count": 20,
     "metadata": {},
     "output_type": "execute_result"
    },
    {
     "data": {
      "image/png": "[encoded data removed]",
      "text/plain": [
       "<Figure size 576x360 with 1 Axes>"
      ]
     },
     "metadata": {
      "needs_background": "light"
     },
     "output_type": "display_data"
    }
   ],
   "source": [
    "plt.figure(figsize=(8,5))\n",
    "plt.scatter(X_test,y_test,color='red',label=\"df\", alpha=0.1)\n",
    "plt.plot(X_test,y_pred,color=\"blue\",label=\"Prediction line\")\n",
    "plt.xlabel(\"magNst\", fontsize=15)\n",
    "plt.ylabel(\"magnitude\", fontsize=15)\n",
    "plt.xticks(fontsize=13)\n",
    "plt.yticks(fontsize=13)\n",
    "plt.legend()"
   ]
  },
  {
   "cell_type": "markdown",
   "metadata": {},
   "source": [
    "#### We use cross validation technique to calulate accuracy. The accuracy is 16.5%, which is less. So, we will combine with other indepented variable to improve the model accuracy."
   ]
  },
  {
   "cell_type": "markdown",
   "metadata": {},
   "source": [
    "### 4.2 Multiple Regression Model\n",
    "\n",
    "#### Here we will consider multiple independent to generate linear models.\n",
    "\n",
    "#### We will implement Backward elimination (or backward deletion) process. All the independent variables are entered into the equation first and each one is deleted one at a time if they do not contribute to the regression equation. Stepwise selection is considered a variation of the previous two methods."
   ]
  },
  {
   "cell_type": "code",
   "execution_count": 21,
   "metadata": {},
   "outputs": [],
   "source": [
    "# all variables selected as input\n",
    "X = df[['latitude','longitude','depth','magType','nst','gap','dmin','rms','type','horizontalError','depthError','magError','magNst','status']]\n",
    "\n",
    "# target variable set\n",
    "y = df['mag']"
   ]
  },
  {
   "cell_type": "markdown",
   "metadata": {},
   "source": [
    "#### As we have already observed we have to consider categorical values in the equation.To account for the categorical values we will consider creating Dummy/Artificial variables\n",
    "\n",
    "#### Encoding Dummy variables\n",
    "  1. magType\n",
    "  2. Type\n",
    "  3. Status"
   ]
  },
  {
   "cell_type": "code",
   "execution_count": 22,
   "metadata": {},
   "outputs": [],
   "source": [
    "# creating dummies and dropping first column to avoid dummy trap\n",
    "X= pd.get_dummies(X,drop_first = True)\n"
   ]
  },
  {
   "cell_type": "code",
   "execution_count": 23,
   "metadata": {},
   "outputs": [
    {
     "data": {
      "text/html": [
       "<div>\n",
       "<style scoped>\n",
       "    .dataframe tbody tr th:only-of-type {\n",
       "        vertical-align: middle;\n",
       "    }\n",
       "\n",
       "    .dataframe tbody tr th {\n",
       "        vertical-align: top;\n",
       "    }\n",
       "\n",
       "    .dataframe thead th {\n",
       "        text-align: right;\n",
       "    }\n",
       "</style>\n",
       "<table border=\"1\" class=\"dataframe\">\n",
       "  <thead>\n",
       "    <tr style=\"text-align: right;\">\n",
       "      <th></th>\n",
       "      <th>latitude</th>\n",
       "      <th>longitude</th>\n",
       "      <th>depth</th>\n",
       "      <th>nst</th>\n",
       "      <th>gap</th>\n",
       "      <th>dmin</th>\n",
       "      <th>rms</th>\n",
       "      <th>horizontalError</th>\n",
       "      <th>depthError</th>\n",
       "      <th>magError</th>\n",
       "      <th>magNst</th>\n",
       "      <th>magType_ml</th>\n",
       "      <th>magType_mt3</th>\n",
       "      <th>type_explosion</th>\n",
       "      <th>type_quarry blast</th>\n",
       "      <th>type_volcanic eruption</th>\n",
       "      <th>status_reviewed</th>\n",
       "    </tr>\n",
       "  </thead>\n",
       "  <tbody>\n",
       "    <tr>\n",
       "      <th>0</th>\n",
       "      <td>19.390833</td>\n",
       "      <td>-155.264328</td>\n",
       "      <td>-0.71</td>\n",
       "      <td>16.0</td>\n",
       "      <td>103.0</td>\n",
       "      <td>0.007544</td>\n",
       "      <td>0.34</td>\n",
       "      <td>0.34</td>\n",
       "      <td>0.38</td>\n",
       "      <td>0.39</td>\n",
       "      <td>7.0</td>\n",
       "      <td>0</td>\n",
       "      <td>0</td>\n",
       "      <td>0</td>\n",
       "      <td>0</td>\n",
       "      <td>0</td>\n",
       "      <td>0</td>\n",
       "    </tr>\n",
       "    <tr>\n",
       "      <th>1</th>\n",
       "      <td>19.424166</td>\n",
       "      <td>-155.255005</td>\n",
       "      <td>0.37</td>\n",
       "      <td>13.0</td>\n",
       "      <td>146.0</td>\n",
       "      <td>0.005713</td>\n",
       "      <td>0.10</td>\n",
       "      <td>0.22</td>\n",
       "      <td>0.15</td>\n",
       "      <td>0.42</td>\n",
       "      <td>19.0</td>\n",
       "      <td>1</td>\n",
       "      <td>0</td>\n",
       "      <td>0</td>\n",
       "      <td>0</td>\n",
       "      <td>0</td>\n",
       "      <td>0</td>\n",
       "    </tr>\n",
       "    <tr>\n",
       "      <th>2</th>\n",
       "      <td>19.398666</td>\n",
       "      <td>-155.290161</td>\n",
       "      <td>0.79</td>\n",
       "      <td>11.0</td>\n",
       "      <td>76.0</td>\n",
       "      <td>0.012210</td>\n",
       "      <td>0.17</td>\n",
       "      <td>0.51</td>\n",
       "      <td>0.43</td>\n",
       "      <td>0.42</td>\n",
       "      <td>22.0</td>\n",
       "      <td>1</td>\n",
       "      <td>0</td>\n",
       "      <td>0</td>\n",
       "      <td>0</td>\n",
       "      <td>0</td>\n",
       "      <td>0</td>\n",
       "    </tr>\n",
       "    <tr>\n",
       "      <th>3</th>\n",
       "      <td>46.848167</td>\n",
       "      <td>-121.755837</td>\n",
       "      <td>0.49</td>\n",
       "      <td>8.0</td>\n",
       "      <td>93.0</td>\n",
       "      <td>0.020080</td>\n",
       "      <td>0.03</td>\n",
       "      <td>0.39</td>\n",
       "      <td>1.05</td>\n",
       "      <td>0.15</td>\n",
       "      <td>5.0</td>\n",
       "      <td>0</td>\n",
       "      <td>0</td>\n",
       "      <td>0</td>\n",
       "      <td>0</td>\n",
       "      <td>0</td>\n",
       "      <td>0</td>\n",
       "    </tr>\n",
       "    <tr>\n",
       "      <th>4</th>\n",
       "      <td>19.411501</td>\n",
       "      <td>-155.274002</td>\n",
       "      <td>1.05</td>\n",
       "      <td>31.0</td>\n",
       "      <td>40.0</td>\n",
       "      <td>0.011330</td>\n",
       "      <td>0.27</td>\n",
       "      <td>0.26</td>\n",
       "      <td>0.20</td>\n",
       "      <td>0.33</td>\n",
       "      <td>15.0</td>\n",
       "      <td>1</td>\n",
       "      <td>0</td>\n",
       "      <td>0</td>\n",
       "      <td>0</td>\n",
       "      <td>0</td>\n",
       "      <td>0</td>\n",
       "    </tr>\n",
       "  </tbody>\n",
       "</table>\n",
       "</div>"
      ],
      "text/plain": [
       "    latitude   longitude  depth   nst    gap      dmin   rms  horizontalError  \\\n",
       "0  19.390833 -155.264328  -0.71  16.0  103.0  0.007544  0.34             0.34   \n",
       "1  19.424166 -155.255005   0.37  13.0  146.0  0.005713  0.10             0.22   \n",
       "2  19.398666 -155.290161   0.79  11.0   76.0  0.012210  0.17             0.51   \n",
       "3  46.848167 -121.755837   0.49   8.0   93.0  0.020080  0.03             0.39   \n",
       "4  19.411501 -155.274002   1.05  31.0   40.0  0.011330  0.27             0.26   \n",
       "\n",
       "   depthError  magError  magNst  magType_ml  magType_mt3  type_explosion  \\\n",
       "0        0.38      0.39     7.0           0            0               0   \n",
       "1        0.15      0.42    19.0           1            0               0   \n",
       "2        0.43      0.42    22.0           1            0               0   \n",
       "3        1.05      0.15     5.0           0            0               0   \n",
       "4        0.20      0.33    15.0           1            0               0   \n",
       "\n",
       "   type_quarry blast  type_volcanic eruption  status_reviewed  \n",
       "0                  0                       0                0  \n",
       "1                  0                       0                0  \n",
       "2                  0                       0                0  \n",
       "3                  0                       0                0  \n",
       "4                  0                       0                0  "
      ]
     },
     "execution_count": 23,
     "metadata": {},
     "output_type": "execute_result"
    }
   ],
   "source": [
    "# inpecting if dummies are created successfully\n",
    "X.head()\n"
   ]
  },
  {
   "cell_type": "code",
   "execution_count": 24,
   "metadata": {},
   "outputs": [],
   "source": [
    "#X = X[['latitude','longitude','depth','nst','gap','dmin','rms','horizontalError','depthError','magError','magType_md','type_explosion','type_quarry blast','status_reviewed']]\n",
    "#X_train,X_test,y_train,y_test = train_test_split(X,y,test_size=0.25,random_state=0)\n",
    "#reg = LinearRegression()\n",
    "#reg.fit(X_train,y_train)\n",
    "#y_pred = reg.predict(X_test)\n",
    "#y_pred\n",
    "#y_pred = reg.predict(X_test)\n",
    "#plt.scatter(y_test, y_pred)"
   ]
  },
  {
   "cell_type": "code",
   "execution_count": 25,
   "metadata": {},
   "outputs": [],
   "source": [
    "# To start backward emilination we will have to put all predictors as our imput\n",
    "X= X[['latitude','longitude','depth','nst','gap','dmin','rms','horizontalError','depthError','magError','magNst','magType_ml','magType_mt3','type_explosion','type_quarry blast','status_reviewed']]\n",
    "y = df['mag']\n",
    "X_o = X"
   ]
  },
  {
   "cell_type": "markdown",
   "metadata": {},
   "source": [
    "#### Since we are following backward selection we have to repeatedly use model selection. Hence we will create a function."
   ]
  },
  {
   "cell_type": "code",
   "execution_count": 26,
   "metadata": {},
   "outputs": [],
   "source": [
    "# function to carry out multiple regression\n",
    "def reg_model(X,y):\n",
    "    \"\"\" This function is used to generate linear model.Inputs X: independent values\n",
    "    y: target value. \n",
    "    Outputs: It will generate model along with mean score and variance score\n",
    "    \"\"\"\n",
    "    reg = linear_model.LinearRegression() # Create a linear regression object\n",
    "    reg.fit(X,y)\n",
    "    # Statistical data exploration\n",
    "    #train[features] = sm.add_constant(train[features])\n",
    "    \n",
    "    result = sm.OLS(y, X).fit()\n",
    "    print (result.summary())\n",
    "    \n",
    "    #Applying K-fold cross validation\n",
    "    score = cross_val_score(estimator = reg , X = X, y = y, cv = 5)\n",
    "    \n",
    "    print('Mean Score =' + str(score.mean()))\n",
    "    print('Variance Score =' + str(score.std()))"
   ]
  },
  {
   "cell_type": "markdown",
   "metadata": {},
   "source": [
    "### Model 1"
   ]
  },
  {
   "cell_type": "code",
   "execution_count": 27,
   "metadata": {},
   "outputs": [
    {
     "name": "stdout",
     "output_type": "stream",
     "text": [
      "                            OLS Regression Results                            \n",
      "==============================================================================\n",
      "Dep. Variable:                    mag   R-squared:                       0.963\n",
      "Model:                            OLS   Adj. R-squared:                  0.963\n",
      "Method:                 Least Squares   F-statistic:                     8883.\n",
      "Date:                Mon, 25 Feb 2019   Prob (F-statistic):               0.00\n",
      "Time:                        18:23:55   Log-Likelihood:                -3537.1\n",
      "No. Observations:                5479   AIC:                             7106.\n",
      "Df Residuals:                    5463   BIC:                             7212.\n",
      "Df Model:                          16                                         \n",
      "Covariance Type:            nonrobust                                         \n",
      "=====================================================================================\n",
      "                        coef    std err          t      P>|t|      [0.025      0.975]\n",
      "-------------------------------------------------------------------------------------\n",
      "latitude             -0.0200      0.001    -28.667      0.000      -0.021      -0.019\n",
      "longitude            -0.0087      0.000    -46.061      0.000      -0.009      -0.008\n",
      "depth                -0.0008      0.000     -2.691      0.007      -0.001      -0.000\n",
      "nst                   0.0198      0.001     25.990      0.000       0.018       0.021\n",
      "gap                   0.0025      0.000     18.375      0.000       0.002       0.003\n",
      "dmin                  0.0184      0.010      1.906      0.057      -0.001       0.037\n",
      "rms                   0.7936      0.057     13.968      0.000       0.682       0.905\n",
      "horizontalError       0.0340      0.008      4.528      0.000       0.019       0.049\n",
      "depthError            0.0092      0.003      2.747      0.006       0.003       0.016\n",
      "magError              0.1113      0.008     13.603      0.000       0.095       0.127\n",
      "magNst                0.0042      0.000     10.645      0.000       0.003       0.005\n",
      "magType_ml            0.4647      0.023     20.066      0.000       0.419       0.510\n",
      "magType_mt3           2.6663      0.070     38.117      0.000       2.529       2.803\n",
      "type_explosion       -0.0973      0.118     -0.823      0.411      -0.329       0.135\n",
      "type_quarry blast    -0.6254      0.148     -4.218      0.000      -0.916      -0.335\n",
      "status_reviewed       0.1017      0.025      4.093      0.000       0.053       0.150\n",
      "==============================================================================\n",
      "Omnibus:                      703.161   Durbin-Watson:                   1.775\n",
      "Prob(Omnibus):                  0.000   Jarque-Bera (JB):             6906.060\n",
      "Skew:                           0.242   Prob(JB):                         0.00\n",
      "Kurtosis:                       8.479   Cond. No.                     4.40e+03\n",
      "==============================================================================\n",
      "\n",
      "Warnings:\n",
      "[1] Standard Errors assume that the covariance matrix of the errors is correctly specified.\n",
      "[2] The condition number is large, 4.4e+03. This might indicate that there are\n",
      "strong multicollinearity or other numerical problems.\n",
      "Mean Score =0.6030428830075973\n",
      "Variance Score =0.02643915290938876\n"
     ]
    }
   ],
   "source": [
    "reg_model(X,y)"
   ]
  },
  {
   "cell_type": "markdown",
   "metadata": {},
   "source": [
    "The value of R- squared and Adj. R- Squared is 0.963. And type_explosion has P value more than 5%. Hence it is not significant which means its not a great predictor for the model.All the the other preditors has significant relationship.for the next model we will eliminate 'type_explosion' from the input dataset.\n",
    "\n",
    "Q?A\n",
    "* Is the relationship significant?   \n",
    "Yes\n",
    "* Are any model assumptions violated?    \n",
    "No. Its adhering to all 4 assumptions\n",
    "* Does the model make sense? Interpret the meaning of each independent variable. \n",
    "Yes it makes sense.\n",
    "* Cross-validate the model. How well did it do? \n",
    "Cross validated and there wasnt much of a change. It was similar to the model accuracy.\n",
    "* Compare the AIC, BIC and adjusted R^2.  Do they agree in their ranking of the models?  \n",
    "It should have low AIC, BIC and high R^2.\n",
    "Our best model does have a low AIC and BIC and R squared is near to 1\n",
    "\n",
    "\n",
    "\n",
    "#### removing type_explosion\n",
    "\n",
    "### Model 2"
   ]
  },
  {
   "cell_type": "code",
   "execution_count": 28,
   "metadata": {
    "scrolled": true
   },
   "outputs": [
    {
     "name": "stdout",
     "output_type": "stream",
     "text": [
      "                            OLS Regression Results                            \n",
      "==============================================================================\n",
      "Dep. Variable:                    mag   R-squared:                       0.963\n",
      "Model:                            OLS   Adj. R-squared:                  0.963\n",
      "Method:                 Least Squares   F-statistic:                     9476.\n",
      "Date:                Mon, 25 Feb 2019   Prob (F-statistic):               0.00\n",
      "Time:                        18:23:55   Log-Likelihood:                -3537.4\n",
      "No. Observations:                5479   AIC:                             7105.\n",
      "Df Residuals:                    5464   BIC:                             7204.\n",
      "Df Model:                          15                                         \n",
      "Covariance Type:            nonrobust                                         \n",
      "=====================================================================================\n",
      "                        coef    std err          t      P>|t|      [0.025      0.975]\n",
      "-------------------------------------------------------------------------------------\n",
      "latitude             -0.0201      0.001    -28.696      0.000      -0.021      -0.019\n",
      "longitude            -0.0087      0.000    -46.094      0.000      -0.009      -0.008\n",
      "depth                -0.0008      0.000     -2.631      0.009      -0.001      -0.000\n",
      "nst                   0.0199      0.001     26.101      0.000       0.018       0.021\n",
      "gap                   0.0026      0.000     18.418      0.000       0.002       0.003\n",
      "dmin                  0.0181      0.010      1.879      0.060      -0.001       0.037\n",
      "rms                   0.7936      0.057     13.967      0.000       0.682       0.905\n",
      "horizontalError       0.0344      0.008      4.582      0.000       0.020       0.049\n",
      "depthError            0.0085      0.003      2.624      0.009       0.002       0.015\n",
      "magError              0.1112      0.008     13.592      0.000       0.095       0.127\n",
      "magNst                0.0042      0.000     10.651      0.000       0.003       0.005\n",
      "magType_ml            0.4633      0.023     20.059      0.000       0.418       0.509\n",
      "magType_mt3           2.6683      0.070     38.168      0.000       2.531       2.805\n",
      "type_quarry blast    -0.6014      0.145     -4.137      0.000      -0.886      -0.316\n",
      "status_reviewed       0.0998      0.025      4.033      0.000       0.051       0.148\n",
      "==============================================================================\n",
      "Omnibus:                      705.279   Durbin-Watson:                   1.775\n",
      "Prob(Omnibus):                  0.000   Jarque-Bera (JB):             6947.451\n",
      "Skew:                           0.243   Prob(JB):                         0.00\n",
      "Kurtosis:                       8.495   Cond. No.                     4.20e+03\n",
      "==============================================================================\n",
      "\n",
      "Warnings:\n",
      "[1] Standard Errors assume that the covariance matrix of the errors is correctly specified.\n",
      "[2] The condition number is large, 4.2e+03. This might indicate that there are\n",
      "strong multicollinearity or other numerical problems.\n",
      "Mean Score =0.6033004489101537\n",
      "Variance Score =0.026629208374960616\n"
     ]
    }
   ],
   "source": [
    "X= X[['latitude','longitude','depth','nst','gap','dmin','rms','horizontalError','depthError','magError','magNst','magType_ml','magType_mt3','type_quarry blast','status_reviewed']]\n",
    "reg_model(X,y)"
   ]
  },
  {
   "cell_type": "markdown",
   "metadata": {},
   "source": [
    "The value of R- squared and Adj. R- Squared is 0.963. And dmin has P value more than 5%. Hence it is not significant ,which means its not a great predictor for the model.All the the other preditors has significant relationship.for the next model we will eliminate 'dmin' from the input dataset.\n",
    "\n",
    "#### removing dmin\n",
    "\n",
    "###  Model 3"
   ]
  },
  {
   "cell_type": "code",
   "execution_count": 29,
   "metadata": {
    "scrolled": true
   },
   "outputs": [
    {
     "name": "stdout",
     "output_type": "stream",
     "text": [
      "                            OLS Regression Results                            \n",
      "==============================================================================\n",
      "Dep. Variable:                    mag   R-squared:                       0.963\n",
      "Model:                            OLS   Adj. R-squared:                  0.963\n",
      "Method:                 Least Squares   F-statistic:                 1.015e+04\n",
      "Date:                Mon, 25 Feb 2019   Prob (F-statistic):               0.00\n",
      "Time:                        18:23:55   Log-Likelihood:                -3539.2\n",
      "No. Observations:                5479   AIC:                             7106.\n",
      "Df Residuals:                    5465   BIC:                             7199.\n",
      "Df Model:                          14                                         \n",
      "Covariance Type:            nonrobust                                         \n",
      "=====================================================================================\n",
      "                        coef    std err          t      P>|t|      [0.025      0.975]\n",
      "-------------------------------------------------------------------------------------\n",
      "latitude             -0.0202      0.001    -29.105      0.000      -0.022      -0.019\n",
      "longitude            -0.0087      0.000    -46.060      0.000      -0.009      -0.008\n",
      "depth                -0.0008      0.000     -2.661      0.008      -0.001      -0.000\n",
      "nst                   0.0199      0.001     26.161      0.000       0.018       0.021\n",
      "gap                   0.0025      0.000     18.379      0.000       0.002       0.003\n",
      "rms                   0.8001      0.057     14.104      0.000       0.689       0.911\n",
      "horizontalError       0.0388      0.007      5.449      0.000       0.025       0.053\n",
      "depthError            0.0076      0.003      2.371      0.018       0.001       0.014\n",
      "magError              0.1109      0.008     13.556      0.000       0.095       0.127\n",
      "magNst                0.0042      0.000     10.639      0.000       0.003       0.005\n",
      "magType_ml            0.4647      0.023     20.125      0.000       0.419       0.510\n",
      "magType_mt3           2.6926      0.069     39.182      0.000       2.558       2.827\n",
      "type_quarry blast    -0.5747      0.145     -3.971      0.000      -0.858      -0.291\n",
      "status_reviewed       0.1047      0.025      4.255      0.000       0.056       0.153\n",
      "==============================================================================\n",
      "Omnibus:                      701.435   Durbin-Watson:                   1.774\n",
      "Prob(Omnibus):                  0.000   Jarque-Bera (JB):             6822.129\n",
      "Skew:                           0.245   Prob(JB):                         0.00\n",
      "Kurtosis:                       8.445   Cond. No.                     4.18e+03\n",
      "==============================================================================\n",
      "\n",
      "Warnings:\n",
      "[1] Standard Errors assume that the covariance matrix of the errors is correctly specified.\n",
      "[2] The condition number is large, 4.18e+03. This might indicate that there are\n",
      "strong multicollinearity or other numerical problems.\n",
      "Mean Score =0.6032137025613352\n",
      "Variance Score =0.02670564541872786\n"
     ]
    }
   ],
   "source": [
    "X= X[['latitude','longitude','depth','nst','gap','rms','horizontalError','depthError','magError','magNst','magType_ml','magType_mt3','type_quarry blast','status_reviewed']]\n",
    "reg_model(X,y)"
   ]
  },
  {
   "cell_type": "markdown",
   "metadata": {},
   "source": [
    "\n",
    "The value of R- squared and Adj. R- Squared is 0.963. And dmin has P value more than 5%. Hence it is not significant ,which means its not a great predictor for the model.All the the other preditors has significant relationship.for the next model we will eliminate 'depthError' from the input dataset.\n",
    "\n",
    "Q?A\n",
    "* Is the relationship significant?   \n",
    "Yes\n",
    "* Are any model assumptions violated?    \n",
    "No. Its adhering to all 4 assumptions\n",
    "* Does the model make sense? Interpret the meaning of each independent variable. \n",
    "Yes it makes sense.\n",
    "* Cross-validate the model. How well did it do? \n",
    "Cross validated and there wasnt much of a change. It was similar to the model accuracy.\n",
    "* Compare the AIC, BIC and adjusted R^2.  Do they agree in their ranking of the models?  \n",
    "It should have low AIC, BIC and high R^2.\n",
    "Our best model does have a low AIC and BIC and R squared is near to 1\n",
    "\n",
    "\n",
    "#### removing depthError\n",
    "\n",
    "### Model 4"
   ]
  },
  {
   "cell_type": "code",
   "execution_count": 30,
   "metadata": {
    "scrolled": true
   },
   "outputs": [
    {
     "name": "stdout",
     "output_type": "stream",
     "text": [
      "                            OLS Regression Results                            \n",
      "==============================================================================\n",
      "Dep. Variable:                    mag   R-squared:                       0.963\n",
      "Model:                            OLS   Adj. R-squared:                  0.963\n",
      "Method:                 Least Squares   F-statistic:                 1.092e+04\n",
      "Date:                Mon, 25 Feb 2019   Prob (F-statistic):               0.00\n",
      "Time:                        18:23:56   Log-Likelihood:                -3542.0\n",
      "No. Observations:                5479   AIC:                             7110.\n",
      "Df Residuals:                    5466   BIC:                             7196.\n",
      "Df Model:                          13                                         \n",
      "Covariance Type:            nonrobust                                         \n",
      "=====================================================================================\n",
      "                        coef    std err          t      P>|t|      [0.025      0.975]\n",
      "-------------------------------------------------------------------------------------\n",
      "latitude             -0.0202      0.001    -29.041      0.000      -0.022      -0.019\n",
      "longitude            -0.0087      0.000    -46.025      0.000      -0.009      -0.008\n",
      "depth                -0.0008      0.000     -2.565      0.010      -0.001      -0.000\n",
      "nst                   0.0199      0.001     26.124      0.000       0.018       0.021\n",
      "gap                   0.0026      0.000     18.866      0.000       0.002       0.003\n",
      "rms                   0.7971      0.057     14.050      0.000       0.686       0.908\n",
      "horizontalError       0.0440      0.007      6.487      0.000       0.031       0.057\n",
      "magError              0.1118      0.008     13.679      0.000       0.096       0.128\n",
      "magNst                0.0041      0.000     10.540      0.000       0.003       0.005\n",
      "magType_ml            0.4624      0.023     20.036      0.000       0.417       0.508\n",
      "magType_mt3           2.6913      0.069     39.149      0.000       2.557       2.826\n",
      "type_quarry blast    -0.3459      0.108     -3.206      0.001      -0.557      -0.134\n",
      "status_reviewed       0.1117      0.024      4.570      0.000       0.064       0.160\n",
      "==============================================================================\n",
      "Omnibus:                      697.096   Durbin-Watson:                   1.772\n",
      "Prob(Omnibus):                  0.000   Jarque-Bera (JB):             6719.640\n",
      "Skew:                           0.243   Prob(JB):                         0.00\n",
      "Kurtosis:                       8.403   Cond. No.                     3.11e+03\n",
      "==============================================================================\n",
      "\n",
      "Warnings:\n",
      "[1] Standard Errors assume that the covariance matrix of the errors is correctly specified.\n",
      "[2] The condition number is large, 3.11e+03. This might indicate that there are\n",
      "strong multicollinearity or other numerical problems.\n",
      "Mean Score =0.6026150653950324\n",
      "Variance Score =0.02705170870208254\n"
     ]
    }
   ],
   "source": [
    "X= X[['latitude','longitude','depth','nst','gap','rms','horizontalError','magError','magNst','magType_ml','magType_mt3','type_quarry blast','status_reviewed']]\n",
    "reg_model(X,y)"
   ]
  },
  {
   "cell_type": "markdown",
   "metadata": {},
   "source": [
    "The value of R- squared and Adj. R- Squared is 0.963. And depth has P value less than than 5%. But it is not significant, because it has very less correlation and t value, which means its not a great predictor for the model.All the the other preditors has significant relationship.for the next model we will eliminate 'depthError' from the input dataset.\n",
    "\n",
    "#### removing depth\n",
    "\n",
    "### Model 5"
   ]
  },
  {
   "cell_type": "code",
   "execution_count": 31,
   "metadata": {
    "scrolled": true
   },
   "outputs": [
    {
     "name": "stdout",
     "output_type": "stream",
     "text": [
      "                            OLS Regression Results                            \n",
      "==============================================================================\n",
      "Dep. Variable:                    mag   R-squared:                       0.963\n",
      "Model:                            OLS   Adj. R-squared:                  0.963\n",
      "Method:                 Least Squares   F-statistic:                 1.182e+04\n",
      "Date:                Mon, 25 Feb 2019   Prob (F-statistic):               0.00\n",
      "Time:                        18:23:56   Log-Likelihood:                -3545.3\n",
      "No. Observations:                5479   AIC:                             7115.\n",
      "Df Residuals:                    5467   BIC:                             7194.\n",
      "Df Model:                          12                                         \n",
      "Covariance Type:            nonrobust                                         \n",
      "=====================================================================================\n",
      "                        coef    std err          t      P>|t|      [0.025      0.975]\n",
      "-------------------------------------------------------------------------------------\n",
      "latitude             -0.0205      0.001    -30.056      0.000      -0.022      -0.019\n",
      "longitude            -0.0087      0.000    -45.993      0.000      -0.009      -0.008\n",
      "nst                   0.0201      0.001     26.482      0.000       0.019       0.022\n",
      "gap                   0.0026      0.000     19.236      0.000       0.002       0.003\n",
      "rms                   0.7885      0.057     13.915      0.000       0.677       0.900\n",
      "horizontalError       0.0405      0.007      6.091      0.000       0.027       0.053\n",
      "magError              0.1115      0.008     13.632      0.000       0.095       0.127\n",
      "magNst                0.0041      0.000     10.431      0.000       0.003       0.005\n",
      "magType_ml            0.4650      0.023     20.155      0.000       0.420       0.510\n",
      "magType_mt3           2.6893      0.069     39.102      0.000       2.554       2.824\n",
      "type_quarry blast    -0.3307      0.108     -3.068      0.002      -0.542      -0.119\n",
      "status_reviewed       0.1046      0.024      4.305      0.000       0.057       0.152\n",
      "==============================================================================\n",
      "Omnibus:                      698.534   Durbin-Watson:                   1.769\n",
      "Prob(Omnibus):                  0.000   Jarque-Bera (JB):             7054.936\n",
      "Skew:                           0.216   Prob(JB):                         0.00\n",
      "Kurtosis:                       8.542   Cond. No.                     3.11e+03\n",
      "==============================================================================\n",
      "\n",
      "Warnings:\n",
      "[1] Standard Errors assume that the covariance matrix of the errors is correctly specified.\n",
      "[2] The condition number is large, 3.11e+03. This might indicate that there are\n",
      "strong multicollinearity or other numerical problems.\n",
      "Mean Score =0.6031392798827039\n",
      "Variance Score =0.025839905623338433\n"
     ]
    }
   ],
   "source": [
    "X= X[['latitude','longitude','nst','gap','rms','horizontalError','magError','magNst','magType_ml','magType_mt3','type_quarry blast','status_reviewed']]\n",
    "reg_model(X,y)"
   ]
  },
  {
   "cell_type": "markdown",
   "metadata": {},
   "source": [
    "The value of R- squared and Adj. R- Squared is 0.963. And depth has P value less than than 5%. But it is not significant, because it has very less correlation and t value, which means its not a great predictor for the model.All the the other preditors has significant relationship.for the next model we will eliminate 'depthError' from the input dataset.\n",
    "\n",
    "#### removing depthError\n",
    "\n",
    "### Model 6"
   ]
  },
  {
   "cell_type": "code",
   "execution_count": 32,
   "metadata": {},
   "outputs": [
    {
     "name": "stdout",
     "output_type": "stream",
     "text": [
      "                            OLS Regression Results                            \n",
      "==============================================================================\n",
      "Dep. Variable:                    mag   R-squared:                       0.963\n",
      "Model:                            OLS   Adj. R-squared:                  0.963\n",
      "Method:                 Least Squares   F-statistic:                 1.287e+04\n",
      "Date:                Mon, 25 Feb 2019   Prob (F-statistic):               0.00\n",
      "Time:                        18:23:56   Log-Likelihood:                -3550.0\n",
      "No. Observations:                5479   AIC:                             7122.\n",
      "Df Residuals:                    5468   BIC:                             7195.\n",
      "Df Model:                          11                                         \n",
      "Covariance Type:            nonrobust                                         \n",
      "===================================================================================\n",
      "                      coef    std err          t      P>|t|      [0.025      0.975]\n",
      "-----------------------------------------------------------------------------------\n",
      "latitude           -0.0205      0.001    -30.040      0.000      -0.022      -0.019\n",
      "longitude          -0.0087      0.000    -46.028      0.000      -0.009      -0.008\n",
      "nst                 0.0201      0.001     26.477      0.000       0.019       0.022\n",
      "gap                 0.0026      0.000     19.266      0.000       0.002       0.003\n",
      "rms                 0.7943      0.057     14.014      0.000       0.683       0.905\n",
      "horizontalError     0.0404      0.007      6.082      0.000       0.027       0.053\n",
      "magError            0.1117      0.008     13.649      0.000       0.096       0.128\n",
      "magNst              0.0041      0.000     10.440      0.000       0.003       0.005\n",
      "magType_ml          0.4609      0.023     19.997      0.000       0.416       0.506\n",
      "magType_mt3         2.6931      0.069     39.134      0.000       2.558       2.828\n",
      "status_reviewed     0.0950      0.024      3.941      0.000       0.048       0.142\n",
      "==============================================================================\n",
      "Omnibus:                      702.143   Durbin-Watson:                   1.768\n",
      "Prob(Omnibus):                  0.000   Jarque-Bera (JB):             7105.147\n",
      "Skew:                           0.221   Prob(JB):                         0.00\n",
      "Kurtosis:                       8.561   Cond. No.                     2.22e+03\n",
      "==============================================================================\n",
      "\n",
      "Warnings:\n",
      "[1] Standard Errors assume that the covariance matrix of the errors is correctly specified.\n",
      "[2] The condition number is large, 2.22e+03. This might indicate that there are\n",
      "strong multicollinearity or other numerical problems.\n",
      "Mean Score =0.6012708449344458\n",
      "Variance Score =0.02785627816034535\n"
     ]
    }
   ],
   "source": [
    "X= X[['latitude','longitude','nst','gap','rms','horizontalError','magError','magNst','magType_ml','magType_mt3','status_reviewed']]\n",
    "reg_model(X,y)"
   ]
  },
  {
   "cell_type": "markdown",
   "metadata": {},
   "source": [
    "The value of R- squared and Adj. R- Squared is 0.963. And status_reviewed has P value less than than 5%. But it is not significant, because it has very less t value, which means its not a great predictor for the model.All the the other preditors has significant relationship.for the next model we will eliminate 'status_reviewed' from the input dataset.\n",
    "\n",
    "#### removing status_reviewed\n",
    "\n",
    "### Model 7"
   ]
  },
  {
   "cell_type": "code",
   "execution_count": 86,
   "metadata": {
    "scrolled": true
   },
   "outputs": [
    {
     "name": "stdout",
     "output_type": "stream",
     "text": [
      "                            OLS Regression Results                            \n",
      "==============================================================================\n",
      "Dep. Variable:                    mag   R-squared:                       0.963\n",
      "Model:                            OLS   Adj. R-squared:                  0.963\n",
      "Method:                 Least Squares   F-statistic:                 1.412e+04\n",
      "Date:                Mon, 25 Feb 2019   Prob (F-statistic):               0.00\n",
      "Time:                        23:40:45   Log-Likelihood:                -3557.8\n",
      "No. Observations:                5479   AIC:                             7136.\n",
      "Df Residuals:                    5469   BIC:                             7202.\n",
      "Df Model:                          10                                         \n",
      "Covariance Type:            nonrobust                                         \n",
      "===================================================================================\n",
      "                      coef    std err          t      P>|t|      [0.025      0.975]\n",
      "-----------------------------------------------------------------------------------\n",
      "latitude           -0.0191      0.001    -32.879      0.000      -0.020      -0.018\n",
      "longitude          -0.0085      0.000    -46.722      0.000      -0.009      -0.008\n",
      "nst                 0.0209      0.001     28.675      0.000       0.019       0.022\n",
      "gap                 0.0027      0.000     20.460      0.000       0.002       0.003\n",
      "rms                 0.7581      0.056     13.537      0.000       0.648       0.868\n",
      "horizontalError     0.0427      0.007      6.445      0.000       0.030       0.056\n",
      "magError            0.1070      0.008     13.199      0.000       0.091       0.123\n",
      "magNst              0.0041      0.000     10.535      0.000       0.003       0.005\n",
      "magType_ml          0.4516      0.023     19.669      0.000       0.407       0.497\n",
      "magType_mt3         2.7537      0.067     40.999      0.000       2.622       2.885\n",
      "==============================================================================\n",
      "Omnibus:                      704.950   Durbin-Watson:                   1.762\n",
      "Prob(Omnibus):                  0.000   Jarque-Bera (JB):             6682.629\n",
      "Skew:                           0.265   Prob(JB):                         0.00\n",
      "Kurtosis:                       8.384   Cond. No.                     2.15e+03\n",
      "==============================================================================\n",
      "\n",
      "Warnings:\n",
      "[1] Standard Errors assume that the covariance matrix of the errors is correctly specified.\n",
      "[2] The condition number is large, 2.15e+03. This might indicate that there are\n",
      "strong multicollinearity or other numerical problems.\n",
      "Mean Score =0.6028144077441316\n",
      "Variance Score =0.029072641680277456\n"
     ]
    }
   ],
   "source": [
    "X= X[['latitude','longitude','nst','gap','rms','horizontalError','magError','magNst','magType_ml','magType_mt3']]\n",
    "reg_model(X,y)"
   ]
  },
  {
   "cell_type": "markdown",
   "metadata": {},
   "source": [
    "The value of R- squared and Adj. R- Squared is 0.963. And horizonatlError has P value less than than 5%. But it is not significant, because it has very less t value, which means its not a great predictor for the model.All the the other preditors has significant relationship.for the next model we will eliminate 'depthError' from the input dataset.\n",
    "\n",
    "Q?A\n",
    "* Is the relationship significant?   \n",
    "Yes\n",
    "* Are any model assumptions violated?    \n",
    "No. Its adhering to all 4 assumptions\n",
    "* Does the model make sense? Interpret the meaning of each independent variable. \n",
    "Yes it makes sense.\n",
    "* Cross-validate the model. How well did it do? \n",
    "Cross validated and there wasnt much of a change. It was similar to the model accuracy.\n",
    "* Compare the AIC, BIC and adjusted R^2.  Do they agree in their ranking of the models?  \n",
    "It should have low AIC, BIC and high R^2.\n",
    "Our best model does have a low AIC and BIC and R squared is near to 1\n",
    "\n",
    "\n",
    "\n",
    "#### removing horizontalError\n",
    "\n",
    "### Model 8"
   ]
  },
  {
   "cell_type": "code",
   "execution_count": 34,
   "metadata": {},
   "outputs": [
    {
     "name": "stdout",
     "output_type": "stream",
     "text": [
      "                            OLS Regression Results                            \n",
      "==============================================================================\n",
      "Dep. Variable:                    mag   R-squared:                       0.962\n",
      "Model:                            OLS   Adj. R-squared:                  0.962\n",
      "Method:                 Least Squares   F-statistic:                 1.557e+04\n",
      "Date:                Mon, 25 Feb 2019   Prob (F-statistic):               0.00\n",
      "Time:                        18:23:56   Log-Likelihood:                -3578.5\n",
      "No. Observations:                5479   AIC:                             7175.\n",
      "Df Residuals:                    5470   BIC:                             7235.\n",
      "Df Model:                           9                                         \n",
      "Covariance Type:            nonrobust                                         \n",
      "===============================================================================\n",
      "                  coef    std err          t      P>|t|      [0.025      0.975]\n",
      "-------------------------------------------------------------------------------\n",
      "latitude       -0.0198      0.001    -34.588      0.000      -0.021      -0.019\n",
      "longitude      -0.0083      0.000    -46.111      0.000      -0.009      -0.008\n",
      "nst             0.0212      0.001     28.969      0.000       0.020       0.023\n",
      "gap             0.0032      0.000     27.194      0.000       0.003       0.003\n",
      "rms             0.8549      0.054     15.787      0.000       0.749       0.961\n",
      "magError        0.1054      0.008     12.962      0.000       0.089       0.121\n",
      "magNst          0.0044      0.000     11.197      0.000       0.004       0.005\n",
      "magType_ml      0.4486      0.023     19.471      0.000       0.403       0.494\n",
      "magType_mt3     2.8989      0.064     45.643      0.000       2.774       3.023\n",
      "==============================================================================\n",
      "Omnibus:                      707.043   Durbin-Watson:                   1.768\n",
      "Prob(Omnibus):                  0.000   Jarque-Bera (JB):             6427.423\n",
      "Skew:                           0.290   Prob(JB):                         0.00\n",
      "Kurtosis:                       8.274   Cond. No.                     2.14e+03\n",
      "==============================================================================\n",
      "\n",
      "Warnings:\n",
      "[1] Standard Errors assume that the covariance matrix of the errors is correctly specified.\n",
      "[2] The condition number is large, 2.14e+03. This might indicate that there are\n",
      "strong multicollinearity or other numerical problems.\n",
      "Mean Score =0.6005552991197355\n",
      "Variance Score =0.029045085918243976\n"
     ]
    }
   ],
   "source": [
    "X= X[['latitude','longitude','nst','gap','rms','magError','magNst','magType_ml','magType_mt3']]\n",
    "reg_model(X,y)"
   ]
  },
  {
   "cell_type": "markdown",
   "metadata": {},
   "source": [
    "The value of R- squared and Adj. R- Squared is 0.962.As we can see there is decrease. And all predictors has P value less than than 5% and high t values. Hence all are significant preditors has significant relationship.\n",
    "\n"
   ]
  },
  {
   "cell_type": "markdown",
   "metadata": {},
   "source": [
    "# 5.Interaction\n",
    "\n",
    "\n",
    "### Model 1\n",
    "#### Now let us account for simultaneous effect of two or more independent variables on at least one dependent variable in which their joint effect is significantly greater (or significantly less) than the sum of the parts."
   ]
  },
  {
   "cell_type": "code",
   "execution_count": 35,
   "metadata": {},
   "outputs": [],
   "source": [
    "# We have considered two variable with high correlation values amd multiplied to evaluate 'Interaction effect'\n",
    "X_o['dmin_horizontalError']=X_o['dmin']*X_o['horizontalError']"
   ]
  },
  {
   "cell_type": "code",
   "execution_count": 36,
   "metadata": {},
   "outputs": [
    {
     "data": {
      "text/html": [
       "<div>\n",
       "<style scoped>\n",
       "    .dataframe tbody tr th:only-of-type {\n",
       "        vertical-align: middle;\n",
       "    }\n",
       "\n",
       "    .dataframe tbody tr th {\n",
       "        vertical-align: top;\n",
       "    }\n",
       "\n",
       "    .dataframe thead th {\n",
       "        text-align: right;\n",
       "    }\n",
       "</style>\n",
       "<table border=\"1\" class=\"dataframe\">\n",
       "  <thead>\n",
       "    <tr style=\"text-align: right;\">\n",
       "      <th></th>\n",
       "      <th>latitude</th>\n",
       "      <th>longitude</th>\n",
       "      <th>depth</th>\n",
       "      <th>nst</th>\n",
       "      <th>gap</th>\n",
       "      <th>dmin</th>\n",
       "      <th>rms</th>\n",
       "      <th>horizontalError</th>\n",
       "      <th>depthError</th>\n",
       "      <th>magError</th>\n",
       "      <th>magNst</th>\n",
       "      <th>magType_ml</th>\n",
       "      <th>magType_mt3</th>\n",
       "      <th>type_explosion</th>\n",
       "      <th>type_quarry blast</th>\n",
       "      <th>status_reviewed</th>\n",
       "      <th>dmin_horizontalError</th>\n",
       "    </tr>\n",
       "  </thead>\n",
       "  <tbody>\n",
       "    <tr>\n",
       "      <th>0</th>\n",
       "      <td>19.390833</td>\n",
       "      <td>-155.264328</td>\n",
       "      <td>-0.71</td>\n",
       "      <td>16.0</td>\n",
       "      <td>103.0</td>\n",
       "      <td>0.007544</td>\n",
       "      <td>0.34</td>\n",
       "      <td>0.34</td>\n",
       "      <td>0.38</td>\n",
       "      <td>0.39</td>\n",
       "      <td>7.0</td>\n",
       "      <td>0</td>\n",
       "      <td>0</td>\n",
       "      <td>0</td>\n",
       "      <td>0</td>\n",
       "      <td>0</td>\n",
       "      <td>0.002565</td>\n",
       "    </tr>\n",
       "    <tr>\n",
       "      <th>1</th>\n",
       "      <td>19.424166</td>\n",
       "      <td>-155.255005</td>\n",
       "      <td>0.37</td>\n",
       "      <td>13.0</td>\n",
       "      <td>146.0</td>\n",
       "      <td>0.005713</td>\n",
       "      <td>0.10</td>\n",
       "      <td>0.22</td>\n",
       "      <td>0.15</td>\n",
       "      <td>0.42</td>\n",
       "      <td>19.0</td>\n",
       "      <td>1</td>\n",
       "      <td>0</td>\n",
       "      <td>0</td>\n",
       "      <td>0</td>\n",
       "      <td>0</td>\n",
       "      <td>0.001257</td>\n",
       "    </tr>\n",
       "    <tr>\n",
       "      <th>2</th>\n",
       "      <td>19.398666</td>\n",
       "      <td>-155.290161</td>\n",
       "      <td>0.79</td>\n",
       "      <td>11.0</td>\n",
       "      <td>76.0</td>\n",
       "      <td>0.012210</td>\n",
       "      <td>0.17</td>\n",
       "      <td>0.51</td>\n",
       "      <td>0.43</td>\n",
       "      <td>0.42</td>\n",
       "      <td>22.0</td>\n",
       "      <td>1</td>\n",
       "      <td>0</td>\n",
       "      <td>0</td>\n",
       "      <td>0</td>\n",
       "      <td>0</td>\n",
       "      <td>0.006227</td>\n",
       "    </tr>\n",
       "    <tr>\n",
       "      <th>3</th>\n",
       "      <td>46.848167</td>\n",
       "      <td>-121.755837</td>\n",
       "      <td>0.49</td>\n",
       "      <td>8.0</td>\n",
       "      <td>93.0</td>\n",
       "      <td>0.020080</td>\n",
       "      <td>0.03</td>\n",
       "      <td>0.39</td>\n",
       "      <td>1.05</td>\n",
       "      <td>0.15</td>\n",
       "      <td>5.0</td>\n",
       "      <td>0</td>\n",
       "      <td>0</td>\n",
       "      <td>0</td>\n",
       "      <td>0</td>\n",
       "      <td>0</td>\n",
       "      <td>0.007831</td>\n",
       "    </tr>\n",
       "    <tr>\n",
       "      <th>4</th>\n",
       "      <td>19.411501</td>\n",
       "      <td>-155.274002</td>\n",
       "      <td>1.05</td>\n",
       "      <td>31.0</td>\n",
       "      <td>40.0</td>\n",
       "      <td>0.011330</td>\n",
       "      <td>0.27</td>\n",
       "      <td>0.26</td>\n",
       "      <td>0.20</td>\n",
       "      <td>0.33</td>\n",
       "      <td>15.0</td>\n",
       "      <td>1</td>\n",
       "      <td>0</td>\n",
       "      <td>0</td>\n",
       "      <td>0</td>\n",
       "      <td>0</td>\n",
       "      <td>0.002946</td>\n",
       "    </tr>\n",
       "  </tbody>\n",
       "</table>\n",
       "</div>"
      ],
      "text/plain": [
       "    latitude   longitude  depth   nst    gap      dmin   rms  horizontalError  \\\n",
       "0  19.390833 -155.264328  -0.71  16.0  103.0  0.007544  0.34             0.34   \n",
       "1  19.424166 -155.255005   0.37  13.0  146.0  0.005713  0.10             0.22   \n",
       "2  19.398666 -155.290161   0.79  11.0   76.0  0.012210  0.17             0.51   \n",
       "3  46.848167 -121.755837   0.49   8.0   93.0  0.020080  0.03             0.39   \n",
       "4  19.411501 -155.274002   1.05  31.0   40.0  0.011330  0.27             0.26   \n",
       "\n",
       "   depthError  magError  magNst  magType_ml  magType_mt3  type_explosion  \\\n",
       "0        0.38      0.39     7.0           0            0               0   \n",
       "1        0.15      0.42    19.0           1            0               0   \n",
       "2        0.43      0.42    22.0           1            0               0   \n",
       "3        1.05      0.15     5.0           0            0               0   \n",
       "4        0.20      0.33    15.0           1            0               0   \n",
       "\n",
       "   type_quarry blast  status_reviewed  dmin_horizontalError  \n",
       "0                  0                0              0.002565  \n",
       "1                  0                0              0.001257  \n",
       "2                  0                0              0.006227  \n",
       "3                  0                0              0.007831  \n",
       "4                  0                0              0.002946  "
      ]
     },
     "execution_count": 36,
     "metadata": {},
     "output_type": "execute_result"
    }
   ],
   "source": [
    "X_o.head()"
   ]
  },
  {
   "cell_type": "markdown",
   "metadata": {},
   "source": [
    "#### We Will remove 'dmin' and 'horizonatlError' and add 'dmin_horizontalError' and We will check the impact on the model"
   ]
  },
  {
   "cell_type": "code",
   "execution_count": 49,
   "metadata": {},
   "outputs": [
    {
     "name": "stdout",
     "output_type": "stream",
     "text": [
      "                            OLS Regression Results                            \n",
      "==============================================================================\n",
      "Dep. Variable:                    mag   R-squared:                       0.963\n",
      "Model:                            OLS   Adj. R-squared:                  0.963\n",
      "Method:                 Least Squares   F-statistic:                     9418.\n",
      "Date:                Mon, 25 Feb 2019   Prob (F-statistic):               0.00\n",
      "Time:                        18:44:48   Log-Likelihood:                -3553.5\n",
      "No. Observations:                5479   AIC:                             7137.\n",
      "Df Residuals:                    5464   BIC:                             7236.\n",
      "Df Model:                          15                                         \n",
      "Covariance Type:            nonrobust                                         \n",
      "========================================================================================\n",
      "                           coef    std err          t      P>|t|      [0.025      0.975]\n",
      "----------------------------------------------------------------------------------------\n",
      "latitude                -0.0211      0.001    -30.620      0.000      -0.022      -0.020\n",
      "longitude               -0.0086      0.000    -45.589      0.000      -0.009      -0.008\n",
      "depth                   -0.0005      0.000     -1.773      0.076      -0.001    5.61e-05\n",
      "nst                      0.0201      0.001     26.261      0.000       0.019       0.022\n",
      "gap                      0.0029      0.000     22.372      0.000       0.003       0.003\n",
      "rms                      0.8803      0.055     15.895      0.000       0.772       0.989\n",
      "depthError               0.0137      0.003      4.325      0.000       0.007       0.020\n",
      "magError                 0.1095      0.008     13.348      0.000       0.093       0.126\n",
      "magNst                   0.0044      0.000     11.175      0.000       0.004       0.005\n",
      "magType_ml               0.4678      0.023     20.152      0.000       0.422       0.513\n",
      "magType_mt3              2.8014      0.067     41.530      0.000       2.669       2.934\n",
      "type_explosion          -0.1190      0.118     -1.005      0.315      -0.351       0.113\n",
      "type_quarry blast       -0.7546      0.145     -5.203      0.000      -1.039      -0.470\n",
      "status_reviewed          0.1109      0.025      4.457      0.000       0.062       0.160\n",
      "dmin_horizontalError    -0.0003      0.001     -0.372      0.710      -0.002       0.001\n",
      "==============================================================================\n",
      "Omnibus:                      705.459   Durbin-Watson:                   1.780\n",
      "Prob(Omnibus):                  0.000   Jarque-Bera (JB):             6880.497\n",
      "Skew:                           0.250   Prob(JB):                         0.00\n",
      "Kurtosis:                       8.467   Cond. No.                     4.30e+03\n",
      "==============================================================================\n",
      "\n",
      "Warnings:\n",
      "[1] Standard Errors assume that the covariance matrix of the errors is correctly specified.\n",
      "[2] The condition number is large, 4.3e+03. This might indicate that there are\n",
      "strong multicollinearity or other numerical problems.\n",
      "Mean Score =0.6020480706518142\n",
      "Variance Score =0.02711297577758626\n"
     ]
    }
   ],
   "source": [
    "X= X_o[['latitude','longitude','depth','nst','gap','rms','depthError','magError','magNst','magType_ml','magType_mt3','type_explosion','type_quarry blast','status_reviewed','dmin_horizontalError']]\n",
    "reg_model(X,y)"
   ]
  },
  {
   "cell_type": "markdown",
   "metadata": {},
   "source": [
    "#### After adding new product term, we see that the R- squared remains the same. And AIC , BIC also increases.This infers that new product term has  resulted in poor results.\n",
    "\n",
    "### Model 2"
   ]
  },
  {
   "cell_type": "code",
   "execution_count": 51,
   "metadata": {},
   "outputs": [],
   "source": [
    "X_o['latitude_magNst']=X_o['latitude']*X_o['magNst']"
   ]
  },
  {
   "cell_type": "markdown",
   "metadata": {},
   "source": [
    "#### We Will remove 'latitude' and 'magNst' and add 'latitude_magNst' and We will check the impact on the model"
   ]
  },
  {
   "cell_type": "code",
   "execution_count": 52,
   "metadata": {},
   "outputs": [
    {
     "name": "stdout",
     "output_type": "stream",
     "text": [
      "                            OLS Regression Results                            \n",
      "==============================================================================\n",
      "Dep. Variable:                    mag   R-squared:                       0.946\n",
      "Model:                            OLS   Adj. R-squared:                  0.946\n",
      "Method:                 Least Squares   F-statistic:                     6856.\n",
      "Date:                Mon, 25 Feb 2019   Prob (F-statistic):               0.00\n",
      "Time:                        18:53:46   Log-Likelihood:                -4565.2\n",
      "No. Observations:                5479   AIC:                             9158.\n",
      "Df Residuals:                    5465   BIC:                             9251.\n",
      "Df Model:                          14                                         \n",
      "Covariance Type:            nonrobust                                         \n",
      "=====================================================================================\n",
      "                        coef    std err          t      P>|t|      [0.025      0.975]\n",
      "-------------------------------------------------------------------------------------\n",
      "latitude_magNst   -7.069e-05   1.22e-05     -5.776      0.000   -9.47e-05   -4.67e-05\n",
      "depth                -0.0018      0.000     -4.988      0.000      -0.002      -0.001\n",
      "nst                   0.0368      0.001     46.834      0.000       0.035       0.038\n",
      "gap                   0.0052      0.000     38.010      0.000       0.005       0.005\n",
      "rms                   0.1020      0.058      1.754      0.080      -0.012       0.216\n",
      "depthError            0.0067      0.004      1.663      0.096      -0.001       0.015\n",
      "magError              0.1177      0.010     12.050      0.000       0.099       0.137\n",
      "magType_ml            1.0145      0.022     45.615      0.000       0.971       1.058\n",
      "magType_mt3           3.2994      0.077     43.083      0.000       3.149       3.450\n",
      "type_explosion       -0.2928      0.143     -2.053      0.040      -0.572      -0.013\n",
      "type_quarry blast    -0.6825      0.179     -3.817      0.000      -1.033      -0.332\n",
      "status_reviewed      -0.3483      0.026    -13.250      0.000      -0.400      -0.297\n",
      "dmin                  0.0248      0.012      2.132      0.033       0.002       0.048\n",
      "horizontalError       0.0319      0.009      3.639      0.000       0.015       0.049\n",
      "==============================================================================\n",
      "Omnibus:                      277.927   Durbin-Watson:                   1.794\n",
      "Prob(Omnibus):                  0.000   Jarque-Bera (JB):              819.061\n",
      "Skew:                          -0.223   Prob(JB):                    1.39e-178\n",
      "Kurtosis:                       4.841   Cond. No.                     1.92e+04\n",
      "==============================================================================\n",
      "\n",
      "Warnings:\n",
      "[1] Standard Errors assume that the covariance matrix of the errors is correctly specified.\n",
      "[2] The condition number is large, 1.92e+04. This might indicate that there are\n",
      "strong multicollinearity or other numerical problems.\n",
      "Mean Score =0.4692649515474077\n",
      "Variance Score =0.03140209283925939\n"
     ]
    }
   ],
   "source": [
    "X= X_o[['latitude_magNst','depth','nst','gap','rms','depthError','magError','magType_ml','magType_mt3','type_explosion','type_quarry blast','status_reviewed','dmin','horizontalError']]\n",
    "reg_model(X,y)"
   ]
  },
  {
   "cell_type": "markdown",
   "metadata": {},
   "source": [
    "#### After adding new product term, we see that the R- squared reduces to 0.946 from 0.963. And AIC , BIC also increases.This infers that new product term has  resulted in poor results."
   ]
  },
  {
   "cell_type": "markdown",
   "metadata": {},
   "source": [
    "## 6. Regularization \n",
    "\n",
    "When the model fits the training data but does not have a good predicting performance and generalization power, we have an overfitting problem.\n",
    "\n",
    "Regularization is a technique used to avoid this overfitting problem. The idea behind regularization is that models that overfit the data are complex models that have for example too many parameters. In the example below we see how three different models fit the same datase.A regression model that uses L1 regularization technique is called Lasso Regression and model which uses L2 is called Ridge Regression.\n",
    "\n",
    "We will use Ridge Regression to fine tune.\n",
    "\n",
    "I will choose best model ie Model 7\n",
    "\n",
    "### 6.1 Ridge Regression "
   ]
  },
  {
   "cell_type": "code",
   "execution_count": 76,
   "metadata": {},
   "outputs": [],
   "source": [
    "X= X_o[['latitude','longitude','nst','gap','rms','horizontalError','magError','magNst','magType_ml','magType_mt3']]\n"
   ]
  },
  {
   "cell_type": "code",
   "execution_count": 61,
   "metadata": {},
   "outputs": [],
   "source": [
    "#X= X_o[['latitude','longitude','nst','gap','magType_ml','magType_mt3']]\n"
   ]
  },
  {
   "cell_type": "code",
   "execution_count": 77,
   "metadata": {},
   "outputs": [],
   "source": [
    "X_train_reg, X_test_reg, y_train_reg, y_test_reg = train_test_split(X, y, test_size=0.3)"
   ]
  },
  {
   "cell_type": "code",
   "execution_count": 78,
   "metadata": {},
   "outputs": [],
   "source": [
    "from sklearn import linear_model"
   ]
  },
  {
   "cell_type": "code",
   "execution_count": 79,
   "metadata": {},
   "outputs": [],
   "source": [
    "def evaluate_reg(model, test_features, test_labels):\n",
    "    predictions = model.predict(test_features)\n",
    "    errors = abs(predictions - test_labels)\n",
    "    mape = 100 * np.mean(errors / test_labels)\n",
    "    accuracy = 100 - mape\n",
    "    print('Model Performance:')\n",
    "    print('Mean ABsolute Error: {:0.4f}'.format(np.mean(errors)))\n",
    "    print('Accuracy = {:0.2f}%'.format(accuracy))\n",
    "    return accuracy"
   ]
  },
  {
   "cell_type": "code",
   "execution_count": 80,
   "metadata": {},
   "outputs": [],
   "source": [
    "lr = linear_model.LinearRegression()"
   ]
  },
  {
   "cell_type": "code",
   "execution_count": 81,
   "metadata": {},
   "outputs": [
    {
     "data": {
      "text/plain": [
       "LinearRegression(copy_X=True, fit_intercept=True, n_jobs=None,\n",
       "         normalize=False)"
      ]
     },
     "execution_count": 81,
     "metadata": {},
     "output_type": "execute_result"
    }
   ],
   "source": [
    "lr.fit(X_train_reg, y_train_reg)"
   ]
  },
  {
   "cell_type": "code",
   "execution_count": 82,
   "metadata": {},
   "outputs": [],
   "source": [
    "lr_params = lr.get_params"
   ]
  },
  {
   "cell_type": "code",
   "execution_count": 83,
   "metadata": {},
   "outputs": [
    {
     "name": "stdout",
     "output_type": "stream",
     "text": [
      "Model Performance:\n",
      "Mean ABsolute Error: 0.3047\n",
      "Accuracy = 85.31%\n"
     ]
    }
   ],
   "source": [
    "lr_accuracy = evaluate_reg(lr, X_test_reg, y_test_reg)"
   ]
  },
  {
   "cell_type": "markdown",
   "metadata": {},
   "source": [
    "#### Hyperparamenter Tuning "
   ]
  },
  {
   "cell_type": "code",
   "execution_count": 85,
   "metadata": {},
   "outputs": [
    {
     "name": "stdout",
     "output_type": "stream",
     "text": [
      "Model Performance:\n",
      "Mean ABsolute Error: 0.3091\n",
      "Accuracy = 84.83%\n"
     ]
    }
   ],
   "source": [
    "from sklearn.linear_model import RidgeCV\n",
    "ridge = linear_model.Ridge(alpha=0.1, normalize=True)\n",
    "grid = RidgeCV(alphas=[1e-8,1e-7,1e-6,1e-5,1e-4, 1e-2, 1e-1, 10], normalize=True, cv = 5)\n",
    "\n",
    "grid.fit(X_train_reg, y_train_reg)\n",
    "\n",
    "grid.alpha_\n",
    "\n",
    "#tuned_ridge = grid.best_estimator_\n",
    "tuned_ridge_accuracy = evaluate_reg(grid, X_test_reg, y_test_reg)\n"
   ]
  },
  {
   "cell_type": "markdown",
   "metadata": {},
   "source": [
    "Q?A\n",
    "* Is the relationship significant?   \n",
    "Yes\n",
    "* Are any model assumptions violated?    \n",
    "No. Its adhering to all 4 assumptions\n",
    "* Does the model make sense? Interpret the meaning of each independent variable. \n",
    "Yes it makes sense.\n",
    "* Cross-validate the model. How well did it do? \n",
    "Cross validated and there wasnt much of a change. It was similar to the model accuracy.\n",
    "* Compare the AIC, BIC and adjusted R^2.  Do they agree in their ranking of the models?  \n",
    "It should have low AIC, BIC and high R^2.\n",
    "Our best model does have a low AIC and BIC and R squared is near to 1\n",
    "\n"
   ]
  }
 ],
 "metadata": {
  "kernelspec": {
   "display_name": "Python 3",
   "language": "python",
   "name": "python3"
  },
  "language_info": {
   "codemirror_mode": {
    "name": "ipython",
    "version": 3
   },
   "file_extension": ".py",
   "mimetype": "text/x-python",
   "name": "python",
   "nbconvert_exporter": "python",
   "pygments_lexer": "ipython3",
   "version": "3.6.8"
  }
 },
 "nbformat": 4,
 "nbformat_minor": 2
}
